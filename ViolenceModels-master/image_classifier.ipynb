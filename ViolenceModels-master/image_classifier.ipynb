{
  "nbformat": 4,
  "nbformat_minor": 0,
  "metadata": {
    "colab": {
      "name": "image classifier.ipynb",
      "version": "0.3.2",
      "provenance": [],
      "collapsed_sections": [
        "Pyp-hPZrwJjF",
        "glRv6hR3XrGb",
        "nG4hQcQrDXVy"
      ],
      "toc_visible": true,
      "include_colab_link": true
    },
    "kernelspec": {
      "name": "python3",
      "display_name": "Python 3"
    },
    "accelerator": "GPU"
  },
  "cells": [
    {
      "cell_type": "markdown",
      "metadata": {
        "id": "view-in-github",
        "colab_type": "text"
      },
      "source": [
        "<a href=\"https://colab.research.google.com/github/davidGCR/ViolenceModels/blob/master/image_classifier.ipynb\" target=\"_parent\"><img src=\"https://colab.research.google.com/assets/colab-badge.svg\" alt=\"Open In Colab\"/></a>"
      ]
    },
    {
      "cell_type": "code",
      "metadata": {
        "colab_type": "code",
        "id": "hQo2lg2mEjyb",
        "colab": {}
      },
      "source": [
        ""
      ],
      "execution_count": 0,
      "outputs": []
    },
    {
      "cell_type": "code",
      "metadata": {
        "id": "u2ghNdAvCOFq",
        "colab_type": "code",
        "outputId": "cbce02d7-cfa8-473d-be2f-e99295790a6e",
        "colab": {
          "base_uri": "https://localhost:8080/",
          "height": 124
        }
      },
      "source": [
        "# Load the Drive helper and mount\n",
        "from google.colab import drive\n",
        "\n",
        "# This will prompt for authorization.\n",
        "drive.mount('/content/drive')"
      ],
      "execution_count": 0,
      "outputs": [
        {
          "output_type": "stream",
          "text": [
            "Go to this URL in a browser: https://accounts.google.com/o/oauth2/auth?client_id=947318989803-6bn6qk8qdgf4n4g3pfee6491hc0brc4i.apps.googleusercontent.com&redirect_uri=urn%3Aietf%3Awg%3Aoauth%3A2.0%3Aoob&scope=email%20https%3A%2F%2Fwww.googleapis.com%2Fauth%2Fdocs.test%20https%3A%2F%2Fwww.googleapis.com%2Fauth%2Fdrive%20https%3A%2F%2Fwww.googleapis.com%2Fauth%2Fdrive.photos.readonly%20https%3A%2F%2Fwww.googleapis.com%2Fauth%2Fpeopleapi.readonly&response_type=code\n",
            "\n",
            "Enter your authorization code:\n",
            "··········\n",
            "Mounted at /content/drive\n"
          ],
          "name": "stdout"
        }
      ]
    },
    {
      "cell_type": "code",
      "metadata": {
        "id": "XDhczLyWCSW6",
        "colab_type": "code",
        "outputId": "7f950110-570d-4858-e04b-2959cfeecd1c",
        "colab": {
          "base_uri": "https://localhost:8080/",
          "height": 34
        }
      },
      "source": [
        "!ls \"/content/drive/My Drive/VIOLENCE DATASETS/CIFAR\""
      ],
      "execution_count": 0,
      "outputs": [
        {
          "output_type": "stream",
          "text": [
            "cifar-10-batches-py  cifar-10-python.tar.gz\n"
          ],
          "name": "stdout"
        }
      ]
    },
    {
      "cell_type": "code",
      "metadata": {
        "id": "UTi4I7aQCYZP",
        "colab_type": "code",
        "colab": {}
      },
      "source": [
        "import torch\n",
        "import torchvision\n",
        "# import torchvision.transforms as transforms\n",
        "import matplotlib.pyplot as plt\n",
        "import numpy as np\n",
        "import torch.nn as nn\n",
        "import torch.nn.functional as F\n",
        "import torch.optim as optim\n",
        "import os\n",
        "import glob\n",
        "import cv2\n",
        "from PIL import Image\n",
        "from torch.utils.data import Dataset\n",
        "from torchvision import models\n",
        "import torch\n",
        "from torchvision import transforms\n",
        "from PIL import Image\n",
        "from torch.autograd import Variable"
      ],
      "execution_count": 0,
      "outputs": []
    },
    {
      "cell_type": "markdown",
      "metadata": {
        "id": "dDMaOn4YvnFN",
        "colab_type": "text"
      },
      "source": [
        "## TEST CLASSIFIER"
      ]
    },
    {
      "cell_type": "code",
      "metadata": {
        "id": "JczjU0WuDU-l",
        "colab_type": "code",
        "outputId": "19a6580b-ee77-47f4-a947-095fdeebd080",
        "colab": {
          "base_uri": "https://localhost:8080/",
          "height": 52
        }
      },
      "source": [
        "folder = '/content/drive/My Drive/VIOLENCE DATASETS/CIFAR'\n",
        "transform = transforms.Compose(\n",
        "    [transforms.ToTensor(),\n",
        "     transforms.Normalize((0.5, 0.5, 0.5), (0.5, 0.5, 0.5))])\n",
        "\n",
        "trainset = torchvision.datasets.CIFAR10(root=folder, train=True,\n",
        "                                        download=True, transform=transform)\n",
        "trainloader = torch.utils.data.DataLoader(trainset, batch_size=4,\n",
        "                                          shuffle=True, num_workers=2)\n",
        "\n",
        "testset = torchvision.datasets.CIFAR10(root=folder, train=False,\n",
        "                                       download=True, transform=transform)\n",
        "testloader = torch.utils.data.DataLoader(testset, batch_size=4,\n",
        "                                         shuffle=False, num_workers=2)\n",
        "\n",
        "classes = ('plane', 'car', 'bird', 'cat',\n",
        "           'deer', 'dog', 'frog', 'horse', 'ship', 'truck')"
      ],
      "execution_count": 0,
      "outputs": [
        {
          "output_type": "stream",
          "text": [
            "Files already downloaded and verified\n",
            "Files already downloaded and verified\n"
          ],
          "name": "stdout"
        }
      ]
    },
    {
      "cell_type": "code",
      "metadata": {
        "id": "zUztE_53C-3O",
        "colab_type": "code",
        "outputId": "ed8f0822-202b-48b1-c56e-98df2317897f",
        "colab": {
          "base_uri": "https://localhost:8080/",
          "height": 157
        }
      },
      "source": [
        "# functions to show an image\n",
        "def imshow(img):\n",
        "    img = img / 2 + 0.5     # unnormalize\n",
        "    npimg = img.numpy()\n",
        "    plt.imshow(np.transpose(npimg, (1, 2, 0)))\n",
        "    plt.show()\n",
        "\n",
        "# get some random training images\n",
        "dataiter = iter(trainloader)\n",
        "images, labels = dataiter.next()\n",
        "\n",
        "# show images\n",
        "imshow(torchvision.utils.make_grid(images))\n",
        "# print labels\n",
        "print(' '.join('%5s' % classes[labels[j]] for j in range(4)))"
      ],
      "execution_count": 0,
      "outputs": [
        {
          "output_type": "display_data",
          "data": {
            "image/png": "[encoded data removed]",
            "text/plain": [
              "<Figure size 432x288 with 1 Axes>"
            ]
          },
          "metadata": {
            "tags": []
          }
        },
        {
          "output_type": "stream",
          "text": [
            "plane  bird   cat  frog\n"
          ],
          "name": "stdout"
        }
      ]
    },
    {
      "cell_type": "code",
      "metadata": {
        "id": "MmQwYC6cDT0t",
        "colab_type": "code",
        "colab": {}
      },
      "source": [
        "class Net(nn.Module):\n",
        "  def __init__(self):\n",
        "      super(Net, self).__init__()\n",
        "      self.conv1 = nn.Conv2d(3, 6, 5)\n",
        "      self.pool = nn.MaxPool2d(2, 2)\n",
        "      self.conv2 = nn.Conv2d(6, 16, 5)\n",
        "      self.fc1 = nn.Linear(16 * 5 * 5, 120)\n",
        "      self.fc2 = nn.Linear(120, 84)\n",
        "      self.fc3 = nn.Linear(84, 10)\n",
        "\n",
        "  def forward(self, x):\n",
        "      x = self.pool(F.relu(self.conv1(x)))\n",
        "      x = self.pool(F.relu(self.conv2(x)))\n",
        "      x = x.view(-1, 16 * 5 * 5)\n",
        "      x = F.relu(self.fc1(x))\n",
        "      x = F.relu(self.fc2(x))\n",
        "      x = self.fc3(x)\n",
        "      return x\n",
        "\n",
        "\n",
        "net = Net()"
      ],
      "execution_count": 0,
      "outputs": []
    },
    {
      "cell_type": "code",
      "metadata": {
        "id": "_77prNO2fGqE",
        "colab_type": "code",
        "colab": {}
      },
      "source": [
        "criterion = nn.CrossEntropyLoss()\n",
        "optimizer = optim.SGD(net.parameters(), lr=0.001, momentum=0.9)"
      ],
      "execution_count": 0,
      "outputs": []
    },
    {
      "cell_type": "code",
      "metadata": {
        "id": "TO7dszHTfj4R",
        "colab_type": "code",
        "outputId": "06878964-0309-41cf-cabd-b6dc72a9b1e3",
        "colab": {
          "base_uri": "https://localhost:8080/",
          "height": 246
        }
      },
      "source": [
        "for epoch in range(2):  # loop over the dataset multiple times\n",
        "\n",
        "    running_loss = 0.0\n",
        "    for i, data in enumerate(trainloader, 0):\n",
        "        # get the inputs; data is a list of [inputs, labels]\n",
        "        inputs, labels = data\n",
        "\n",
        "        # zero the parameter gradients\n",
        "        optimizer.zero_grad()\n",
        "\n",
        "        # forward + backward + optimize\n",
        "        outputs = net(inputs)\n",
        "        loss = criterion(outputs, labels)\n",
        "        loss.backward()\n",
        "        optimizer.step()\n",
        "\n",
        "        # print statistics\n",
        "        running_loss += loss.item()\n",
        "        if i % 2000 == 1999:    # print every 2000 mini-batches\n",
        "            print('[%d, %5d] loss: %.3f' %\n",
        "                  (epoch + 1, i + 1, running_loss / 2000))\n",
        "            running_loss = 0.0\n",
        "\n",
        "print('Finished Training')"
      ],
      "execution_count": 0,
      "outputs": [
        {
          "output_type": "stream",
          "text": [
            "[1,  2000] loss: 2.131\n",
            "[1,  4000] loss: 1.803\n",
            "[1,  6000] loss: 1.661\n",
            "[1,  8000] loss: 1.563\n",
            "[1, 10000] loss: 1.510\n",
            "[1, 12000] loss: 1.448\n",
            "[2,  2000] loss: 1.370\n",
            "[2,  4000] loss: 1.347\n",
            "[2,  6000] loss: 1.322\n",
            "[2,  8000] loss: 1.302\n",
            "[2, 10000] loss: 1.293\n",
            "[2, 12000] loss: 1.269\n",
            "Finished Training\n"
          ],
          "name": "stdout"
        }
      ]
    },
    {
      "cell_type": "code",
      "metadata": {
        "id": "CZQGagckhz6w",
        "colab_type": "code",
        "outputId": "6d493bc9-5756-441f-f283-a2fa48d1d960",
        "colab": {
          "base_uri": "https://localhost:8080/",
          "height": 157
        }
      },
      "source": [
        "dataiter = iter(testloader)\n",
        "images, labels = dataiter.next()\n",
        "\n",
        "# print images\n",
        "imshow(torchvision.utils.make_grid(images))\n",
        "print('GroundTruth: ', ' '.join('%5s' % classes[labels[j]] for j in range(4)))"
      ],
      "execution_count": 0,
      "outputs": [
        {
          "output_type": "display_data",
          "data": {
            "image/png": "[encoded data removed]",
            "text/plain": [
              "<Figure size 432x288 with 1 Axes>"
            ]
          },
          "metadata": {
            "tags": []
          }
        },
        {
          "output_type": "stream",
          "text": [
            "GroundTruth:    cat  ship  ship plane\n"
          ],
          "name": "stdout"
        }
      ]
    },
    {
      "cell_type": "code",
      "metadata": {
        "id": "8Bj2wEYykWq9",
        "colab_type": "code",
        "colab": {}
      },
      "source": [
        "outputs = net(images)"
      ],
      "execution_count": 0,
      "outputs": []
    },
    {
      "cell_type": "code",
      "metadata": {
        "id": "kuNlYMyml2sr",
        "colab_type": "code",
        "outputId": "e25dd1f9-d2ff-4862-aef8-8f177d1d2c8a",
        "colab": {
          "base_uri": "https://localhost:8080/",
          "height": 35
        }
      },
      "source": [
        "_, predicted = torch.max(outputs, 1)\n",
        "\n",
        "print('Predicted: ', ' '.join('%5s' % classes[predicted[j]]\n",
        "                              for j in range(4)))"
      ],
      "execution_count": 0,
      "outputs": [
        {
          "output_type": "stream",
          "text": [
            "Predicted:    cat   car  ship  ship\n"
          ],
          "name": "stdout"
        }
      ]
    },
    {
      "cell_type": "code",
      "metadata": {
        "id": "JJTo-M4NmHyg",
        "colab_type": "code",
        "outputId": "9670c184-3a69-40fd-815a-80aa39dd6ade",
        "colab": {
          "base_uri": "https://localhost:8080/",
          "height": 35
        }
      },
      "source": [
        "correct = 0\n",
        "total = 0\n",
        "with torch.no_grad():\n",
        "    for data in testloader:\n",
        "        images, labels = data\n",
        "        outputs = net(images)\n",
        "        _, predicted = torch.max(outputs.data, 1)\n",
        "        total += labels.size(0)\n",
        "        correct += (predicted == labels).sum().item()\n",
        "\n",
        "print('Accuracy of the network on the 10000 test images: %d %%' % (\n",
        "    100 * correct / total))"
      ],
      "execution_count": 0,
      "outputs": [
        {
          "output_type": "stream",
          "text": [
            "Accuracy of the network on the 10000 test images: 55 %\n"
          ],
          "name": "stdout"
        }
      ]
    },
    {
      "cell_type": "code",
      "metadata": {
        "id": "w2Bc-ODsmtK6",
        "colab_type": "code",
        "outputId": "2884e706-f2f0-4e9f-f419-74eed5bb4f2e",
        "colab": {
          "base_uri": "https://localhost:8080/",
          "height": 187
        }
      },
      "source": [
        "class_correct = list(0. for i in range(10))\n",
        "class_total = list(0. for i in range(10))\n",
        "with torch.no_grad():\n",
        "    for data in testloader:\n",
        "        images, labels = data\n",
        "        outputs = net(images)\n",
        "        _, predicted = torch.max(outputs, 1)\n",
        "        c = (predicted == labels).squeeze()\n",
        "        for i in range(4):\n",
        "            label = labels[i]\n",
        "            class_correct[label] += c[i].item()\n",
        "            class_total[label] += 1\n",
        "\n",
        "\n",
        "for i in range(10):\n",
        "    print('Accuracy of %5s : %2d %%' % (\n",
        "        classes[i], 100 * class_correct[i] / class_total[i]))"
      ],
      "execution_count": 0,
      "outputs": [
        {
          "output_type": "stream",
          "text": [
            "Accuracy of plane : 64 %\n",
            "Accuracy of   car : 67 %\n",
            "Accuracy of  bird : 29 %\n",
            "Accuracy of   cat : 25 %\n",
            "Accuracy of  deer : 44 %\n",
            "Accuracy of   dog : 65 %\n",
            "Accuracy of  frog : 58 %\n",
            "Accuracy of horse : 64 %\n",
            "Accuracy of  ship : 72 %\n",
            "Accuracy of truck : 68 %\n"
          ],
          "name": "stdout"
        }
      ]
    },
    {
      "cell_type": "markdown",
      "metadata": {
        "id": "b5zGXTcFe17A",
        "colab_type": "text"
      },
      "source": [
        "## Image Dynamic General"
      ]
    },
    {
      "cell_type": "code",
      "metadata": {
        "id": "r-nq1otisBX_",
        "colab_type": "code",
        "colab": {}
      },
      "source": [
        "\n",
        "def compute_approximate_dynamic_images(dir_folder,source_type, lib, no_frames=0):\n",
        "  images = []\n",
        "  frame_count = 0\n",
        "  if no_frames == 0:\n",
        "    print('dynamic image with all frames...')\n",
        "  else:\n",
        "    print('dynamic image with: ',no_frames,' frames')\n",
        "    \n",
        "#   fig = plt.figure(figsize=(15,15))\n",
        "  \n",
        "  if source_type == 'images':\n",
        "    files_fights = os.listdir(dir_folder)\n",
        "    files_fights.sort(key=lambda f: int(''.join(filter(str.isdigit, f))))\n",
        "\n",
        "    for index,avi in enumerate(files_fights):\n",
        "      if frame_count < no_frames:\n",
        "        img_dir = str(dir_folder)+'/'+avi\n",
        "        \n",
        "#         img = cv2.imread(img_dir,cv2.IMREAD_COLOR)\n",
        "#         img = cv2.cvtColor(img, cv2.COLOR_BGR2RGB)\n",
        "        img = Image.open(img_dir).convert(\"RGB\")\n",
        "        img = np.array(img) \n",
        "    \n",
        "        images.append(img)\n",
        "        frame_count += 1\n",
        "#   elif source_type == 'video':\n",
        "#     cap = cv2.VideoCapture(dir_folder)\n",
        "#     while(True):\n",
        "#       if frame_count < no_frames:\n",
        "#         # Capture frame-by-frame\n",
        "#         if lib == 'cv2':\n",
        "#           ret, frame = cap.read()\n",
        "#           img = cv2.cvtColor(frame, cv2.COLOR_BGR2RGB)\n",
        "#         elif lib == 'pil':\n",
        "        \n",
        "#         images.append(img)\n",
        "#         frame_count += 1\n",
        "#       else: break\n",
        "\n",
        "\n",
        "  images = np.stack(images, axis=0)\n",
        "\n",
        "  fw = np.zeros(no_frames)  \n",
        "  for i in range(no_frames): #frame by frame\n",
        "    fw[i] = np.sum( np.divide((2*np.arange(i+1,no_frames+1)-no_frames-1) , np.arange(i+1,no_frames+1))  )\n",
        "\n",
        "  fwr = fw.reshape(no_frames,1,1,1)\n",
        "  sm = images*fwr\n",
        "  sm = sm.sum(0)\n",
        "\n",
        "  sm = sm - np.min(sm) \n",
        "  sm = 255 * sm /np.max(sm) \n",
        "  img = sm.astype(np.uint8)\n",
        "  \n",
        "#   print('Dynamic img type: ',type(img))\n",
        "#   imgPIL = Image.fromarray(img)\n",
        "#   imgPIL.show()\n",
        "  return sm, img\n",
        "\n",
        "def plot_dynamic_image(dy_img):\n",
        "  img = sm.astype(np.uint8)\n",
        "  plt.imshow(img)\n",
        "  plt.show()\n",
        "  return img"
      ],
      "execution_count": 0,
      "outputs": []
    },
    {
      "cell_type": "code",
      "metadata": {
        "id": "NHOgCna_JMr6",
        "colab_type": "code",
        "outputId": "e9f7a674-fcae-477b-a493-efbde9c4fa49",
        "colab": {
          "base_uri": "https://localhost:8080/",
          "height": 286
        }
      },
      "source": [
        "sm, img = compute_approximate_dynamic_images('/content/drive/My Drive/VIOLENCE DATASETS/HockeyFightsFrames/Fights/3','images', 'cv2', no_frames=20)\n",
        "plt.imshow(img)\n",
        "plt.show()"
      ],
      "execution_count": 0,
      "outputs": [
        {
          "output_type": "stream",
          "text": [
            "dynamic image with:  20  frames\n"
          ],
          "name": "stdout"
        },
        {
          "output_type": "display_data",
          "data": {
            "image/png": "[encoded data removed]",
            "text/plain": [
              "<Figure size 432x288 with 1 Axes>"
            ]
          },
          "metadata": {
            "tags": []
          }
        }
      ]
    },
    {
      "cell_type": "code",
      "metadata": {
        "id": "Go_zwW93TAop",
        "colab_type": "code",
        "outputId": "b350e9a0-97a1-45cc-90ac-82d2e0d92c7a",
        "colab": {
          "base_uri": "https://localhost:8080/",
          "height": 34
        }
      },
      "source": [
        "imgPIL = Image.fromarray(np.uint8(sm))\n",
        "# imgPIL.show()\n",
        "imgPIL.save('/content/drive/My Drive/VIOLENCE DATASETS/pruebas/pil.jpg')\n",
        "\n",
        "cv2.imwrite('/content/drive/My Drive/VIOLENCE DATASETS/pruebas/cv2.jpg',img)\n",
        "\n",
        "# Apple = Image.open('/content/drive/My Drive/VIOLENCE DATASETS/HockeyFightsFrames/Fights/2/frame001.jpg')\n",
        "# Apple.show()"
      ],
      "execution_count": 0,
      "outputs": [
        {
          "output_type": "execute_result",
          "data": {
            "text/plain": [
              "True"
            ]
          },
          "metadata": {
            "tags": []
          },
          "execution_count": 74
        }
      ]
    },
    {
      "cell_type": "code",
      "metadata": {
        "id": "LbilVoEE_Zpc",
        "colab_type": "code",
        "colab": {}
      },
      "source": [
        "### Generate N dynamic images from a set of frames\n",
        "\n",
        "def dynamic_image(video_id, video_frames_folder, out_folder, numSeq):\n",
        "\n",
        "  files_fights = os.listdir(video_frames_folder)\n",
        "  files_fights.sort(key=lambda f: int(''.join(filter(str.isdigit, f))))\n",
        "  total_frames = len(files_fights)\n",
        "  \n",
        "  sequences = [files_fights[x:x+numSeq] for x in range(0, total_frames, numSeq)]\n",
        "  no_sequences = 0\n",
        "  \n",
        "  for index, seq in enumerate(sequences):\n",
        "#     print('sequence : ', index)\n",
        "    \n",
        "    if len(seq)==numSeq:\n",
        "      no_sequences = no_sequences + 1\n",
        "#       print('no_sequences : ', no_sequences)\n",
        "      frames = []\n",
        "      for frame in seq:\n",
        "        img_dir = str(video_frames_folder)+'/'+ frame\n",
        "        img = cv2.imread(img_dir,cv2.IMREAD_COLOR)\n",
        "        img = cv2.cvtColor(img, cv2.COLOR_BGR2RGB)\n",
        "        frames.append(img)\n",
        " \n",
        "      frames = np.stack(frames, axis=0)\n",
        "      fw = np.zeros(numSeq)  \n",
        "      for i in range(numSeq): #frame by frame\n",
        "        fw[i] = np.sum( np.divide((2*np.arange(i+1,numSeq+1)-numSeq-1) , np.arange(i+1,numSeq+1))  )\n",
        "\n",
        "      fwr = fw.reshape(numSeq,1,1,1)\n",
        "      sm = frames*fwr\n",
        "      sm = sm.sum(0)\n",
        "      sm = sm - np.min(sm) ;\n",
        "      sm = 255 * sm /np.max(sm) ;\n",
        "      img = sm.astype(np.uint8)\n",
        "      \n",
        "#       plt.imshow(img)\n",
        "#       plt.show()\n",
        "      \n",
        "      out_image_name = out_folder+'/'+'video'+str(video_id)+'-segment'+str(index)+'.jpg'\n",
        "      print(out_image_name)\n",
        "      status = cv2.imwrite(out_image_name,img)\n",
        "      \n",
        "      if status == False: \n",
        "        print('ERROR guardando imagen dinamica...')\n",
        "#         return -1\n",
        "  return no_sequences"
      ],
      "execution_count": 0,
      "outputs": []
    },
    {
      "cell_type": "code",
      "metadata": {
        "id": "cVwDwQZ87o13",
        "colab_type": "code",
        "outputId": "fa287f8a-e9cc-4568-d09c-7c7d043c1671",
        "colab": {
          "base_uri": "https://localhost:8080/",
          "height": 204
        }
      },
      "source": [
        "no_sequences = dynamic_image(2,'/content/drive/My Drive/VIOLENCE DATASETS/HockeyFightsFrames/Fights/2','/content/drive/My Drive/VIOLENCE DATASETS/HockeyFightsFrames/ImagenesDinamicas/violencia', 4)\n",
        "no_sequences"
      ],
      "execution_count": 0,
      "outputs": [
        {
          "output_type": "stream",
          "text": [
            "/content/drive/My Drive/VIOLENCE DATASETS/HockeyFightsFrames/ImagenesDinamicas/violencia/video2-segment0.jpg\n",
            "/content/drive/My Drive/VIOLENCE DATASETS/HockeyFightsFrames/ImagenesDinamicas/violencia/video2-segment1.jpg\n",
            "/content/drive/My Drive/VIOLENCE DATASETS/HockeyFightsFrames/ImagenesDinamicas/violencia/video2-segment2.jpg\n",
            "/content/drive/My Drive/VIOLENCE DATASETS/HockeyFightsFrames/ImagenesDinamicas/violencia/video2-segment3.jpg\n",
            "/content/drive/My Drive/VIOLENCE DATASETS/HockeyFightsFrames/ImagenesDinamicas/violencia/video2-segment4.jpg\n",
            "/content/drive/My Drive/VIOLENCE DATASETS/HockeyFightsFrames/ImagenesDinamicas/violencia/video2-segment5.jpg\n",
            "/content/drive/My Drive/VIOLENCE DATASETS/HockeyFightsFrames/ImagenesDinamicas/violencia/video2-segment6.jpg\n",
            "/content/drive/My Drive/VIOLENCE DATASETS/HockeyFightsFrames/ImagenesDinamicas/violencia/video2-segment7.jpg\n",
            "/content/drive/My Drive/VIOLENCE DATASETS/HockeyFightsFrames/ImagenesDinamicas/violencia/video2-segment8.jpg\n",
            "/content/drive/My Drive/VIOLENCE DATASETS/HockeyFightsFrames/ImagenesDinamicas/violencia/video2-segment9.jpg\n"
          ],
          "name": "stdout"
        },
        {
          "output_type": "execute_result",
          "data": {
            "text/plain": [
              "10"
            ]
          },
          "metadata": {
            "tags": []
          },
          "execution_count": 5
        }
      ]
    },
    {
      "cell_type": "markdown",
      "metadata": {
        "id": "XEvQLMPOfBoK",
        "colab_type": "text"
      },
      "source": [
        "## Using Pre-trained CNN"
      ]
    },
    {
      "cell_type": "code",
      "metadata": {
        "id": "snD0Zpvce9-1",
        "colab_type": "code",
        "colab": {}
      },
      "source": [
        "# dir(models)\n",
        "\n",
        "# Top level data directory. Here we assume the format of the directory conforms\n",
        "#   to the ImageFolder structure\n",
        "data_dir = \"./data/hymenoptera_data\"\n",
        "\n",
        "# Models to choose from [resnet, alexnet, vgg, squeezenet, densenet, inception]\n",
        "model_name = \"alexnet\"\n",
        "\n",
        "# Number of classes in the dataset\n",
        "num_classes = 2\n",
        "\n",
        "# Batch size for training (change depending on how much memory you have)\n",
        "batch_size = 8\n",
        "\n",
        "# Number of epochs to train for\n",
        "num_epochs = 15\n",
        "\n",
        "# Flag for feature extracting. When False, we finetune the whole model,\n",
        "#   when True we only update the reshaped layer params\n",
        "feature_extract = True\n",
        "\n",
        "input_size = 224"
      ],
      "execution_count": 0,
      "outputs": []
    },
    {
      "cell_type": "code",
      "metadata": {
        "id": "I4YwYycOjLGN",
        "colab_type": "code",
        "colab": {}
      },
      "source": [
        "def set_parameter_requires_grad(model, feature_extracting):\n",
        "    if feature_extracting:\n",
        "        for param in model.parameters():\n",
        "            param.requires_grad = False"
      ],
      "execution_count": 0,
      "outputs": []
    },
    {
      "cell_type": "code",
      "metadata": {
        "id": "H9pC-d41ldET",
        "colab_type": "code",
        "colab": {}
      },
      "source": [
        "def initialize_model(model_name, num_classes, feature_extract, use_pretrained=True):\n",
        "    # Initialize these variables which will be set in this if statement. Each of these\n",
        "    #   variables is model specific.\n",
        "    model_ft = None\n",
        "    input_size = 0\n",
        "\n",
        "    if model_name == \"resnet\":\n",
        "        \"\"\" Resnet18\n",
        "        \"\"\"\n",
        "        model_ft = models.resnet18(pretrained=use_pretrained)\n",
        "        set_parameter_requires_grad(model_ft, feature_extract)\n",
        "        num_ftrs = model_ft.fc.in_features\n",
        "        model_ft.fc = nn.Linear(num_ftrs, num_classes)\n",
        "        input_size = 224\n",
        "\n",
        "    elif model_name == \"alexnet\":\n",
        "        \"\"\" Alexnet\n",
        "        \"\"\"\n",
        "        model_ft = models.alexnet(pretrained=use_pretrained)\n",
        "        set_parameter_requires_grad(model_ft, feature_extract)\n",
        "        num_ftrs = model_ft.classifier[6].in_features\n",
        "        model_ft.classifier[6] = nn.Linear(num_ftrs,num_classes)\n",
        "        input_size = 224\n",
        "\n",
        "    elif model_name == \"vgg\":\n",
        "        \"\"\" VGG11_bn\n",
        "        \"\"\"\n",
        "        model_ft = models.vgg11_bn(pretrained=use_pretrained)\n",
        "        set_parameter_requires_grad(model_ft, feature_extract)\n",
        "        num_ftrs = model_ft.classifier[6].in_features\n",
        "        model_ft.classifier[6] = nn.Linear(num_ftrs,num_classes)\n",
        "        input_size = 224\n",
        "\n",
        "    elif model_name == \"squeezenet\":\n",
        "        \"\"\" Squeezenet\n",
        "        \"\"\"\n",
        "        model_ft = models.squeezenet1_0(pretrained=use_pretrained)\n",
        "        set_parameter_requires_grad(model_ft, feature_extract)\n",
        "        model_ft.classifier[1] = nn.Conv2d(512, num_classes, kernel_size=(1,1), stride=(1,1))\n",
        "        model_ft.num_classes = num_classes\n",
        "        input_size = 224\n",
        "\n",
        "    elif model_name == \"densenet\":\n",
        "        \"\"\" Densenet\n",
        "        \"\"\"\n",
        "        model_ft = models.densenet121(pretrained=use_pretrained)\n",
        "        set_parameter_requires_grad(model_ft, feature_extract)\n",
        "        num_ftrs = model_ft.classifier.in_features\n",
        "        model_ft.classifier = nn.Linear(num_ftrs, num_classes)\n",
        "        input_size = 224\n",
        "\n",
        "    elif model_name == \"inception\":\n",
        "        \"\"\" Inception v3\n",
        "        Be careful, expects (299,299) sized images and has auxiliary output\n",
        "        \"\"\"\n",
        "        model_ft = models.inception_v3(pretrained=use_pretrained)\n",
        "        set_parameter_requires_grad(model_ft, feature_extract)\n",
        "        # Handle the auxilary net\n",
        "        num_ftrs = model_ft.AuxLogits.fc.in_features\n",
        "        model_ft.AuxLogits.fc = nn.Linear(num_ftrs, num_classes)\n",
        "        # Handle the primary net\n",
        "        num_ftrs = model_ft.fc.in_features\n",
        "        model_ft.fc = nn.Linear(num_ftrs,num_classes)\n",
        "        input_size = 299\n",
        "\n",
        "    else:\n",
        "        print(\"Invalid model name, exiting...\")\n",
        "        exit()\n",
        "\n",
        "    return model_ft, input_size\n",
        "\n",
        "# Initialize the model for this run\n",
        "model_ft, input_size = initialize_model(model_name, num_classes, feature_extract, use_pretrained=True)\n",
        "\n",
        "# Print the model we just instantiated\n",
        "print(model_ft)"
      ],
      "execution_count": 0,
      "outputs": []
    },
    {
      "cell_type": "markdown",
      "metadata": {
        "id": "0iP-pz6ZzSIl",
        "colab_type": "text"
      },
      "source": [
        "## Violence Model"
      ]
    },
    {
      "cell_type": "code",
      "metadata": {
        "id": "5x1j7bfJzO62",
        "colab_type": "code",
        "colab": {}
      },
      "source": [
        "\n",
        "class ViolenceModel(nn.Module):\n",
        "  def __init__(self, seqLen):\n",
        "      super(ViolenceModel, self).__init__()\n",
        "      self.seqLen = seqLen\n",
        "      self.alexnet = models.alexnet(pretrained=True)\n",
        "      \n",
        "      set_parameter_requires_grad(self.alexnet, feature_extract)\n",
        "      \n",
        "      self.convNet = nn.Sequential(*list(self.alexnet.features.children()))\n",
        "      self.linear = nn.Linear(256*6*6*seqLen,2)\n",
        "#       model_ft.classifier[6] = nn.Linear(256*6*6*seqLen,num_classes)\n",
        "      self.alexnet = None\n",
        "\n",
        "  def forward(self, x):\n",
        "    lista = []\n",
        "    for dimage in range(0, self.seqLen):\n",
        "      feature = self.convNet(x[dimage])\n",
        "#       print('--->feature  (CNN output) size: ',feature.size())\n",
        "      feature = feature.view(feature.size(0), 256 * 6 * 6)\n",
        "      lista.append(feature)\n",
        "#       print('--->feature VIEW (CNN output) size: ',feature.size())\n",
        "      \n",
        "    x = torch.cat(lista, dim=1)  \n",
        "#     print('x cat: ',x.size())\n",
        "    x = self.linear(x)\n",
        "    \n",
        "#     print('x classifier: ',x.size())\n",
        "    \n",
        "#       print('feature (CNN output)size: ',feature.size())\n",
        "        \n",
        "    return x"
      ],
      "execution_count": 0,
      "outputs": []
    },
    {
      "cell_type": "code",
      "metadata": {
        "id": "6v7R312ORd2I",
        "colab_type": "code",
        "outputId": "4fb0deef-42c1-4c4b-940d-f5209841155f",
        "colab": {
          "base_uri": "https://localhost:8080/",
          "height": 104
        }
      },
      "source": [
        "\n",
        "lista = []\n",
        "for i in range(5):\n",
        "  x = torch.randn(1, 5)\n",
        "  print(x)\n",
        "  lista.append(x)"
      ],
      "execution_count": 0,
      "outputs": [
        {
          "output_type": "stream",
          "text": [
            "tensor([[-1.3850, -1.2034,  0.5761,  1.5218, -3.1416]])\n",
            "tensor([[-1.6252, -0.7897,  0.3818, -1.2194, -0.3751]])\n",
            "tensor([[-1.7649, -0.5887, -0.3962, -0.2167, -1.2001]])\n",
            "tensor([[ 0.3267,  1.6414, -1.3855,  0.9795, -1.1927]])\n",
            "tensor([[ 0.3628, -0.5179, -1.0474, -0.0660, -0.9343]])\n"
          ],
          "name": "stdout"
        }
      ]
    },
    {
      "cell_type": "code",
      "metadata": {
        "id": "JizEQoUyReEt",
        "colab_type": "code",
        "outputId": "3d857207-3221-4c43-b0b4-687bdaeab733",
        "colab": {
          "base_uri": "https://localhost:8080/",
          "height": 86
        }
      },
      "source": [
        "aa = torch.cat(lista,dim=1)\n",
        "aa.size()\n",
        "aa"
      ],
      "execution_count": 0,
      "outputs": [
        {
          "output_type": "execute_result",
          "data": {
            "text/plain": [
              "tensor([[-1.3850, -1.2034,  0.5761,  1.5218, -3.1416, -1.6252, -0.7897,  0.3818,\n",
              "         -1.2194, -0.3751, -1.7649, -0.5887, -0.3962, -0.2167, -1.2001,  0.3267,\n",
              "          1.6414, -1.3855,  0.9795, -1.1927,  0.3628, -0.5179, -1.0474, -0.0660,\n",
              "         -0.9343]])"
            ]
          },
          "metadata": {
            "tags": []
          },
          "execution_count": 44
        }
      ]
    },
    {
      "cell_type": "markdown",
      "metadata": {
        "id": "Pyp-hPZrwJjF",
        "colab_type": "text"
      },
      "source": [
        "## Gnerate Static Dynamic Images Dataset"
      ]
    },
    {
      "cell_type": "code",
      "metadata": {
        "id": "2a7H_vfAyyTE",
        "colab_type": "code",
        "colab": {}
      },
      "source": [
        "def make_split(fights_dir, noFights_dir, seqLen):\n",
        "\n",
        "  path_violence = '/content/drive/My Drive/VIOLENCE DATASETS/HockeyFightsFrames/ImagenesDinamicas/violencia'\n",
        "  n_violent_images = 0 \n",
        "  for target in sorted(os.listdir(fights_dir)):\n",
        "      d = os.path.join(fights_dir, target)\n",
        "      if not os.path.isdir(d):\n",
        "          continue\n",
        "#       print(d)\n",
        "      n = dynamic_image(target,d,path_violence, seqLen)\n",
        "       \n",
        "  path_noviolence = '/content/drive/My Drive/VIOLENCE DATASETS/HockeyFightsFrames/ImagenesDinamicas/noViolencia'\n",
        "  n_no_violent_images = 0\n",
        "  for target in sorted(os.listdir(noFights_dir)):\n",
        "      d = os.path.join(noFights_dir, target)\n",
        "      if not os.path.isdir(d):\n",
        "          continue\n",
        "      n = dynamic_image(target,d,path_noviolence, seqLen)\n",
        "\n"
      ],
      "execution_count": 0,
      "outputs": []
    },
    {
      "cell_type": "code",
      "metadata": {
        "id": "omUeNKJ8zAMi",
        "colab_type": "code",
        "colab": {}
      },
      "source": [
        "#### Generar imagenes dinamicas y guardar\n",
        "# Dataset, Labels, NumFrames = make_split('/content/drive/My Drive/VIOLENCE DATASETS/HockeyFightsFrames/Fights','/content/drive/My Drive/VIOLENCE DATASETS/HockeyFightsFrames/noFights',4)"
      ],
      "execution_count": 0,
      "outputs": []
    },
    {
      "cell_type": "code",
      "metadata": {
        "id": "0bHhyXKkiZBO",
        "colab_type": "code",
        "colab": {}
      },
      "source": [
        "# path_violence = '/content/drive/My Drive/VIOLENCE DATASETS/HockeyFightsFrames/ImagenesDinamicas20/violencia'\n",
        "# path_noviolence = '/content/drive/My Drive/VIOLENCE DATASETS/HockeyFightsFrames/ImagenesDinamicas20/noViolencia'\n",
        "# datasetAll, labelsAll = createDataset(path_violence,path_noviolence)"
      ],
      "execution_count": 0,
      "outputs": []
    },
    {
      "cell_type": "code",
      "metadata": {
        "id": "Nh6vLu3Lmreh",
        "colab_type": "code",
        "outputId": "90e5b117-816b-4938-b973-6af16a8c8bb2",
        "colab": {
          "base_uri": "https://localhost:8080/",
          "height": 35
        }
      },
      "source": [
        "# len(labelsAll), len(datasetAll)\n",
        "# Dataset\n",
        "# type(Labels)"
      ],
      "execution_count": 0,
      "outputs": [
        {
          "output_type": "execute_result",
          "data": {
            "text/plain": [
              "(2000, 2000)"
            ]
          },
          "metadata": {
            "tags": []
          },
          "execution_count": 11
        }
      ]
    },
    {
      "cell_type": "markdown",
      "metadata": {
        "id": "glRv6hR3XrGb",
        "colab_type": "text"
      },
      "source": [
        "## Generar dataset"
      ]
    },
    {
      "cell_type": "code",
      "metadata": {
        "id": "fA22u3D4Xpaq",
        "colab_type": "code",
        "colab": {}
      },
      "source": [
        "def createDataset(path_violence,path_noviolence):\n",
        "  imagesF = []\n",
        "\n",
        "  list_violence = os.listdir(path_violence)\n",
        "  list_violence.sort(key=lambda f: int(''.join(filter(str.isdigit, f))))\n",
        "\n",
        "  for target in list_violence:\n",
        "      d = os.path.join(path_violence, target)\n",
        "  #     print(d)\n",
        "  #     if not os.path.isdir(d):\n",
        "  #         continue\n",
        "      imagesF.append(d)\n",
        "\n",
        "\n",
        "  imagesNoF = []\n",
        "  list_no_violence = os.listdir(path_noviolence)\n",
        "  list_no_violence.sort(key=lambda f: int(''.join(filter(str.isdigit, f))))\n",
        "\n",
        "  for target in list_no_violence:\n",
        "      d = os.path.join(path_noviolence, target)\n",
        "#       print(d)\n",
        "  #     if not os.path.isdir(d):\n",
        "  #         continue\n",
        "      imagesNoF.append(d)\n",
        "\n",
        "  Dataset = imagesF + imagesNoF\n",
        "  Labels = list([1] * len(imagesF)) + list([0] * len(imagesNoF))\n",
        "  NumFrames = [len(glob.glob1(Dataset[i], \"*.jpg\")) for i in range(len(Dataset))]\n",
        "  return Dataset, Labels, NumFrames"
      ],
      "execution_count": 0,
      "outputs": []
    },
    {
      "cell_type": "markdown",
      "metadata": {
        "id": "nG4hQcQrDXVy",
        "colab_type": "text"
      },
      "source": [
        "## Violence Dataset from images"
      ]
    },
    {
      "cell_type": "code",
      "metadata": {
        "id": "WS3jkPU9qZ_R",
        "colab_type": "code",
        "colab": {}
      },
      "source": [
        "class ViolenceDatasetImages(Dataset):\n",
        "  \n",
        "  def __init__(self, dataset, labels, spatial_transform):\n",
        "    \"\"\"\n",
        "    Args:\n",
        "        dataset (list): Paths to the videos.\n",
        "        labels (list): Directory with all the images.\n",
        "        \n",
        "        spatial_transform (callable, optional): Optional transform to be applied\n",
        "            on a sample.\n",
        "    \"\"\"\n",
        "    self.spatial_transform = spatial_transform\n",
        "    self.images = dataset\n",
        "    self.labels = labels\n",
        "#     self.numFrames = numFrames\n",
        "#     self.seqLen = seqLen\n",
        "\n",
        "  def __len__(self):\n",
        "    return len(self.images)\n",
        "\n",
        "  def __getitem__(self, idx):\n",
        "    vid_name = self.images[idx]\n",
        "    label = self.labels[idx]\n",
        "    img = Image.open(vid_name)\n",
        "    img = self.spatial_transform(img.convert('RGB'))\n",
        "    return img,label\n",
        "\n",
        "#       for i in np.linspace(1, numFrames, self.seqLen):\n",
        "#           fl_name = vid_name + '/' + 'frame' + str(int(round(i))).zfill(3) + '.jpg'\n",
        "#           img = Image.open(fl_name)\n",
        "#           inpSeq.append(self.spatial_transform(img.convert('RGB')))\n",
        "#       inpSeq = torch.stack(inpSeq, 0)\n",
        "    return inpSeq, label"
      ],
      "execution_count": 0,
      "outputs": []
    },
    {
      "cell_type": "markdown",
      "metadata": {
        "id": "q_cASticDzHu",
        "colab_type": "text"
      },
      "source": [
        "## Violence Dataset from Videos"
      ]
    },
    {
      "cell_type": "code",
      "metadata": {
        "id": "46kNdxceD3ve",
        "colab_type": "code",
        "colab": {}
      },
      "source": [
        "class ViolenceDatasetVideos(Dataset):\n",
        "  \n",
        "  def __init__(self, dataset, labels, spatial_transform, seqLen):\n",
        "    \"\"\"\n",
        "    Args:\n",
        "        dataset (list): Paths to the videos.\n",
        "        labels (list): labels froma data\n",
        "        seqLen (int): Number of frames in each segment\n",
        "        \n",
        "        spatial_transform (callable, optional): Optional transform to be applied\n",
        "            on a sample.\n",
        "    \"\"\"\n",
        "    self.spatial_transform = spatial_transform\n",
        "    self.images = dataset\n",
        "    self.labels = labels\n",
        "    self.seqLen = seqLen\n",
        "\n",
        "  def __len__(self):\n",
        "    return len(self.images)\n",
        "\n",
        "  def __getitem__(self, idx):\n",
        "    vid_name = self.images[idx]\n",
        "    label = self.labels[idx]\n",
        "    \n",
        "    frames_list = os.listdir(vid_name)\n",
        "    frames_list.sort(key=lambda f: int(''.join(filter(str.isdigit, f))))\n",
        "    total_frames = len(frames_list)\n",
        "    \n",
        "    sequences = [frames_list[x:x+seqLen] for x in range(0, total_frames, seqLen)]\n",
        "    \n",
        "    inpSeq = []\n",
        "    \n",
        "    for index, seq in enumerate(sequences):\n",
        "      if len(seq)==self.seqLen:\n",
        "        frames = []\n",
        "        for frame in seq:\n",
        "          img_dir = str(vid_name)+'/'+ frame\n",
        "          \n",
        "#           img = cv2.imread(img_dir,cv2.IMREAD_COLOR)\n",
        "#           img = cv2.cvtColor(img, cv2.COLOR_BGR2RGB)\n",
        "          img = Image.open(img_dir).convert(\"RGB\")\n",
        "          img = np.array(img) \n",
        "          frames.append(img)\n",
        "\n",
        "        frames = np.stack(frames, axis=0)\n",
        "        fw = np.zeros(self.seqLen)  \n",
        "        for i in range(self.seqLen): #frame by frame\n",
        "          fw[i] = np.sum( np.divide((2*np.arange(i+1,self.seqLen+1)-self.seqLen-1) , np.arange(i+1,self.seqLen+1))  )\n",
        "\n",
        "        fwr = fw.reshape(self.seqLen,1,1,1)\n",
        "        sm = frames*fwr\n",
        "        sm = sm.sum(0)\n",
        "        sm = sm - np.min(sm) ;\n",
        "        sm = 255 * sm /np.max(sm) ;\n",
        "        img = sm.astype(np.uint8)\n",
        "        ##to PIL image\n",
        "        img = Image.fromarray(np.uint8(img))\n",
        "        \n",
        "        inpSeq.append(self.spatial_transform(img.convert('RGB')))\n",
        "    \n",
        "    inpSeq = torch.stack(inpSeq, 0)\n",
        "   \n",
        "    return inpSeq,label\n",
        "  \n",
        "  \n",
        "  "
      ],
      "execution_count": 0,
      "outputs": []
    },
    {
      "cell_type": "code",
      "metadata": {
        "id": "KWE2LlHbft8e",
        "colab_type": "code",
        "colab": {}
      },
      "source": [
        "\n",
        "# Data augmentation and normalization for training\n",
        "# Just normalization for validation\n",
        "data_transforms = {\n",
        "    'train': transforms.Compose([\n",
        "        transforms.RandomResizedCrop(input_size),\n",
        "        transforms.RandomHorizontalFlip(),\n",
        "        transforms.ToTensor(),\n",
        "        transforms.Normalize([0.485, 0.456, 0.406], [0.229, 0.224, 0.225])\n",
        "    ]),\n",
        "    'val': transforms.Compose([\n",
        "        transforms.Resize(input_size),\n",
        "        transforms.CenterCrop(input_size),\n",
        "        transforms.ToTensor(),\n",
        "        transforms.Normalize([0.485, 0.456, 0.406], [0.229, 0.224, 0.225])\n",
        "    ]),\n",
        "}\n",
        "\n",
        "device = torch.device(\"cuda:0\" if torch.cuda.is_available() else \"cpu\")\n",
        "# Detect if we have a GPU available"
      ],
      "execution_count": 0,
      "outputs": []
    },
    {
      "cell_type": "markdown",
      "metadata": {
        "id": "rRWx-KbAFXqw",
        "colab_type": "text"
      },
      "source": [
        "### Test Loader and dimentions"
      ]
    },
    {
      "cell_type": "code",
      "metadata": {
        "id": "5S7m0jS9cFz_",
        "colab_type": "code",
        "outputId": "a0dceedf-bf02-43de-e75d-6945332ff801",
        "colab": {
          "base_uri": "https://localhost:8080/",
          "height": 1000
        }
      },
      "source": [
        "### test Violence Dataset and Loaders\n",
        "path_violence = '/content/drive/My Drive/VIOLENCE DATASETS/HockeyFightsFrames/Fights'\n",
        "path_noviolence = '/content/drive/My Drive/VIOLENCE DATASETS/HockeyFightsFrames/noFights'\n",
        "\n",
        "datasetAll, labelsAll, numFramesAll = createDataset(path_violence,path_noviolence)\n",
        "\n",
        "seqLen = 20\n",
        "\n",
        "image_datasets = {\n",
        "  'train':ViolenceDatasetVideos(datasetAll,labelsAll,data_transforms['train'],seqLen),\n",
        "#   'val': ViolenceDatasetVideos(dataset_test,dataset_test_labels,data_transforms['val'],seqLen)\n",
        "}\n",
        "dataloaders_dict = {\n",
        "  'train': torch.utils.data.DataLoader(image_datasets['train'], batch_size=batch_size, shuffle=True, num_workers=4),\n",
        "#   'val': torch.utils.data.DataLoader(image_datasets['val'], batch_size=batch_size, shuffle=True, num_workers=4)\n",
        "}\n",
        "\n",
        "model = ViolenceModel(2)\n",
        "\n",
        "# optimizer_ft = optim.SGD(params_to_update, lr=0.001, momentum=0.9)\n",
        "model.train() \n",
        "model.cuda()\n",
        "\n",
        "\n",
        "\n",
        "\n",
        "for inputs, labels in dataloaders_dict['train']:\n",
        "#   print('inputs size: ',inputs.size())\n",
        "#   print('labels size: ',labels.size())\n",
        "#   inputs = inputs.to(device)\n",
        "#   labels = labels.to(device)\n",
        "#   optimizer.zero_grad()\n",
        "  \n",
        "#   with torch.set_grad_enabled(True):\n",
        "  print('type inputs: ', type(inputs))\n",
        "  print('size inputs: ', inputs.size())\n",
        "  \n",
        "  \n",
        "  inputVariable1 = Variable(inputs.permute(1, 0, 2, 3, 4).cuda())\n",
        "  print('type inputVariable1: ', type(inputVariable1))\n",
        "  print('size inputVariable1: ', inputVariable1.size())\n",
        "  \n",
        "  outputs = model(inputVariable1)\n",
        "  \n",
        "  \n",
        "#    for t in range(0, seqLen):\n",
        "  \n"
      ],
      "execution_count": 0,
      "outputs": [
        {
          "output_type": "stream",
          "text": [
            "Exception ignored in: <bound method _DataLoaderIter.__del__ of <torch.utils.data.dataloader._DataLoaderIter object at 0x7f68b8e59e10>>\n",
            "Traceback (most recent call last):\n",
            "  File \"/usr/local/lib/python3.6/dist-packages/torch/utils/data/dataloader.py\", line 677, in __del__\n",
            "    self._shutdown_workers()\n",
            "  File \"/usr/local/lib/python3.6/dist-packages/torch/utils/data/dataloader.py\", line 659, in _shutdown_workers\n",
            "    w.join()\n",
            "  File \"/usr/lib/python3.6/multiprocessing/process.py\", line 122, in join\n",
            "    assert self._parent_pid == os.getpid(), 'can only join a child process'\n",
            "AssertionError: can only join a child process\n",
            "Exception ignored in: <bound method _DataLoaderIter.__del__ of <torch.utils.data.dataloader._DataLoaderIter object at 0x7f68b8e59e10>>\n",
            "Traceback (most recent call last):\n",
            "  File \"/usr/local/lib/python3.6/dist-packages/torch/utils/data/dataloader.py\", line 677, in __del__\n",
            "    self._shutdown_workers()\n",
            "  File \"/usr/local/lib/python3.6/dist-packages/torch/utils/data/dataloader.py\", line 659, in _shutdown_workers\n",
            "    w.join()\n",
            "  File \"/usr/lib/python3.6/multiprocessing/process.py\", line 122, in join\n",
            "    assert self._parent_pid == os.getpid(), 'can only join a child process'\n",
            "AssertionError: can only join a child process\n",
            "Exception ignored in: <bound method _DataLoaderIter.__del__ of <torch.utils.data.dataloader._DataLoaderIter object at 0x7f68b8e59e10>>\n",
            "Traceback (most recent call last):\n",
            "  File \"/usr/local/lib/python3.6/dist-packages/torch/utils/data/dataloader.py\", line 677, in __del__\n",
            "    self._shutdown_workers()\n",
            "  File \"/usr/local/lib/python3.6/dist-packages/torch/utils/data/dataloader.py\", line 659, in _shutdown_workers\n",
            "    w.join()\n",
            "  File \"/usr/lib/python3.6/multiprocessing/process.py\", line 122, in join\n",
            "    assert self._parent_pid == os.getpid(), 'can only join a child process'\n",
            "AssertionError: can only join a child process\n",
            "Exception ignored in: <bound method _DataLoaderIter.__del__ of <torch.utils.data.dataloader._DataLoaderIter object at 0x7f68b8e59e10>>\n",
            "Traceback (most recent call last):\n",
            "  File \"/usr/local/lib/python3.6/dist-packages/torch/utils/data/dataloader.py\", line 677, in __del__\n",
            "    self._shutdown_workers()\n",
            "  File \"/usr/local/lib/python3.6/dist-packages/torch/utils/data/dataloader.py\", line 659, in _shutdown_workers\n",
            "    w.join()\n",
            "  File \"/usr/lib/python3.6/multiprocessing/process.py\", line 122, in join\n",
            "    assert self._parent_pid == os.getpid(), 'can only join a child process'\n",
            "AssertionError: can only join a child process\n"
          ],
          "name": "stderr"
        },
        {
          "output_type": "stream",
          "text": [
            "type inputs:  <class 'torch.Tensor'>\n",
            "size inputs:  torch.Size([8, 2, 3, 224, 224])\n",
            "type inputVariable1:  <class 'torch.Tensor'>\n",
            "size inputVariable1:  torch.Size([2, 8, 3, 224, 224])\n",
            "//// Xx:  torch.Size([8, 2])\n",
            "type inputs:  <class 'torch.Tensor'>\n",
            "size inputs:  torch.Size([8, 2, 3, 224, 224])\n",
            "type inputVariable1:  <class 'torch.Tensor'>\n",
            "size inputVariable1:  torch.Size([2, 8, 3, 224, 224])\n",
            "//// Xx:  torch.Size([8, 2])\n",
            "type inputs:  <class 'torch.Tensor'>\n",
            "size inputs:  torch.Size([8, 2, 3, 224, 224])\n",
            "type inputVariable1:  <class 'torch.Tensor'>\n",
            "size inputVariable1:  torch.Size([2, 8, 3, 224, 224])\n",
            "//// Xx:  torch.Size([8, 2])\n",
            "type inputs:  <class 'torch.Tensor'>\n",
            "size inputs:  torch.Size([8, 2, 3, 224, 224])\n",
            "type inputVariable1:  <class 'torch.Tensor'>\n",
            "size inputVariable1:  torch.Size([2, 8, 3, 224, 224])\n",
            "//// Xx:  torch.Size([8, 2])\n",
            "type inputs:  <class 'torch.Tensor'>\n",
            "size inputs:  torch.Size([8, 2, 3, 224, 224])\n",
            "type inputVariable1:  <class 'torch.Tensor'>\n",
            "size inputVariable1:  torch.Size([2, 8, 3, 224, 224])\n",
            "//// Xx:  torch.Size([8, 2])\n",
            "type inputs:  <class 'torch.Tensor'>\n",
            "size inputs:  torch.Size([8, 2, 3, 224, 224])\n",
            "type inputVariable1:  <class 'torch.Tensor'>\n",
            "size inputVariable1:  torch.Size([2, 8, 3, 224, 224])\n",
            "//// Xx:  torch.Size([8, 2])\n",
            "type inputs:  <class 'torch.Tensor'>\n",
            "size inputs:  torch.Size([8, 2, 3, 224, 224])\n",
            "type inputVariable1:  <class 'torch.Tensor'>\n",
            "size inputVariable1:  torch.Size([2, 8, 3, 224, 224])\n",
            "//// Xx:  torch.Size([8, 2])\n",
            "type inputs:  <class 'torch.Tensor'>\n",
            "size inputs:  torch.Size([8, 2, 3, 224, 224])\n",
            "type inputVariable1:  <class 'torch.Tensor'>\n",
            "size inputVariable1:  torch.Size([2, 8, 3, 224, 224])\n",
            "//// Xx:  torch.Size([8, 2])\n"
          ],
          "name": "stdout"
        },
        {
          "output_type": "error",
          "ename": "KeyboardInterrupt",
          "evalue": "ignored",
          "traceback": [
            "\u001b[0;31m---------------------------------------------------------------------------\u001b[0m",
            "\u001b[0;31mKeyboardInterrupt\u001b[0m                         Traceback (most recent call last)",
            "\u001b[0;32m<ipython-input-31-d3fa46cf2bcb>\u001b[0m in \u001b[0;36m<module>\u001b[0;34m()\u001b[0m\n\u001b[1;32m     24\u001b[0m \u001b[0;34m\u001b[0m\u001b[0m\n\u001b[1;32m     25\u001b[0m \u001b[0;34m\u001b[0m\u001b[0m\n\u001b[0;32m---> 26\u001b[0;31m \u001b[0;32mfor\u001b[0m \u001b[0minputs\u001b[0m\u001b[0;34m,\u001b[0m \u001b[0mlabels\u001b[0m \u001b[0;32min\u001b[0m \u001b[0mdataloaders_dict\u001b[0m\u001b[0;34m[\u001b[0m\u001b[0;34m'train'\u001b[0m\u001b[0;34m]\u001b[0m\u001b[0;34m:\u001b[0m\u001b[0;34m\u001b[0m\u001b[0;34m\u001b[0m\u001b[0m\n\u001b[0m\u001b[1;32m     27\u001b[0m \u001b[0;31m#   print('inputs size: ',inputs.size())\u001b[0m\u001b[0;34m\u001b[0m\u001b[0;34m\u001b[0m\u001b[0;34m\u001b[0m\u001b[0m\n\u001b[1;32m     28\u001b[0m \u001b[0;31m#   print('labels size: ',labels.size())\u001b[0m\u001b[0;34m\u001b[0m\u001b[0;34m\u001b[0m\u001b[0;34m\u001b[0m\u001b[0m\n",
            "\u001b[0;32m/usr/local/lib/python3.6/dist-packages/torch/utils/data/dataloader.py\u001b[0m in \u001b[0;36m__next__\u001b[0;34m(self)\u001b[0m\n\u001b[1;32m    574\u001b[0m         \u001b[0;32mwhile\u001b[0m \u001b[0;32mTrue\u001b[0m\u001b[0;34m:\u001b[0m\u001b[0;34m\u001b[0m\u001b[0;34m\u001b[0m\u001b[0m\n\u001b[1;32m    575\u001b[0m             \u001b[0;32massert\u001b[0m \u001b[0;34m(\u001b[0m\u001b[0;32mnot\u001b[0m \u001b[0mself\u001b[0m\u001b[0;34m.\u001b[0m\u001b[0mshutdown\u001b[0m \u001b[0;32mand\u001b[0m \u001b[0mself\u001b[0m\u001b[0;34m.\u001b[0m\u001b[0mbatches_outstanding\u001b[0m \u001b[0;34m>\u001b[0m \u001b[0;36m0\u001b[0m\u001b[0;34m)\u001b[0m\u001b[0;34m\u001b[0m\u001b[0;34m\u001b[0m\u001b[0m\n\u001b[0;32m--> 576\u001b[0;31m             \u001b[0midx\u001b[0m\u001b[0;34m,\u001b[0m \u001b[0mbatch\u001b[0m \u001b[0;34m=\u001b[0m \u001b[0mself\u001b[0m\u001b[0;34m.\u001b[0m\u001b[0m_get_batch\u001b[0m\u001b[0;34m(\u001b[0m\u001b[0;34m)\u001b[0m\u001b[0;34m\u001b[0m\u001b[0;34m\u001b[0m\u001b[0m\n\u001b[0m\u001b[1;32m    577\u001b[0m             \u001b[0mself\u001b[0m\u001b[0;34m.\u001b[0m\u001b[0mbatches_outstanding\u001b[0m \u001b[0;34m-=\u001b[0m \u001b[0;36m1\u001b[0m\u001b[0;34m\u001b[0m\u001b[0;34m\u001b[0m\u001b[0m\n\u001b[1;32m    578\u001b[0m             \u001b[0;32mif\u001b[0m \u001b[0midx\u001b[0m \u001b[0;34m!=\u001b[0m \u001b[0mself\u001b[0m\u001b[0;34m.\u001b[0m\u001b[0mrcvd_idx\u001b[0m\u001b[0;34m:\u001b[0m\u001b[0;34m\u001b[0m\u001b[0;34m\u001b[0m\u001b[0m\n",
            "\u001b[0;32m/usr/local/lib/python3.6/dist-packages/torch/utils/data/dataloader.py\u001b[0m in \u001b[0;36m_get_batch\u001b[0;34m(self)\u001b[0m\n\u001b[1;32m    551\u001b[0m         \u001b[0;32melse\u001b[0m\u001b[0;34m:\u001b[0m\u001b[0;34m\u001b[0m\u001b[0;34m\u001b[0m\u001b[0m\n\u001b[1;32m    552\u001b[0m             \u001b[0;32mwhile\u001b[0m \u001b[0;32mTrue\u001b[0m\u001b[0;34m:\u001b[0m\u001b[0;34m\u001b[0m\u001b[0;34m\u001b[0m\u001b[0m\n\u001b[0;32m--> 553\u001b[0;31m                 \u001b[0msuccess\u001b[0m\u001b[0;34m,\u001b[0m \u001b[0mdata\u001b[0m \u001b[0;34m=\u001b[0m \u001b[0mself\u001b[0m\u001b[0;34m.\u001b[0m\u001b[0m_try_get_batch\u001b[0m\u001b[0;34m(\u001b[0m\u001b[0;34m)\u001b[0m\u001b[0;34m\u001b[0m\u001b[0;34m\u001b[0m\u001b[0m\n\u001b[0m\u001b[1;32m    554\u001b[0m                 \u001b[0;32mif\u001b[0m \u001b[0msuccess\u001b[0m\u001b[0;34m:\u001b[0m\u001b[0;34m\u001b[0m\u001b[0;34m\u001b[0m\u001b[0m\n\u001b[1;32m    555\u001b[0m                     \u001b[0;32mreturn\u001b[0m \u001b[0mdata\u001b[0m\u001b[0;34m\u001b[0m\u001b[0;34m\u001b[0m\u001b[0m\n",
            "\u001b[0;32m/usr/local/lib/python3.6/dist-packages/torch/utils/data/dataloader.py\u001b[0m in \u001b[0;36m_try_get_batch\u001b[0;34m(self, timeout)\u001b[0m\n\u001b[1;32m    509\u001b[0m         \u001b[0;31m#   (bool: whether successfully get data, any: data if successful else None)\u001b[0m\u001b[0;34m\u001b[0m\u001b[0;34m\u001b[0m\u001b[0;34m\u001b[0m\u001b[0m\n\u001b[1;32m    510\u001b[0m         \u001b[0;32mtry\u001b[0m\u001b[0;34m:\u001b[0m\u001b[0;34m\u001b[0m\u001b[0;34m\u001b[0m\u001b[0m\n\u001b[0;32m--> 511\u001b[0;31m             \u001b[0mdata\u001b[0m \u001b[0;34m=\u001b[0m \u001b[0mself\u001b[0m\u001b[0;34m.\u001b[0m\u001b[0mdata_queue\u001b[0m\u001b[0;34m.\u001b[0m\u001b[0mget\u001b[0m\u001b[0;34m(\u001b[0m\u001b[0mtimeout\u001b[0m\u001b[0;34m=\u001b[0m\u001b[0mtimeout\u001b[0m\u001b[0;34m)\u001b[0m\u001b[0;34m\u001b[0m\u001b[0;34m\u001b[0m\u001b[0m\n\u001b[0m\u001b[1;32m    512\u001b[0m             \u001b[0;32mreturn\u001b[0m \u001b[0;34m(\u001b[0m\u001b[0;32mTrue\u001b[0m\u001b[0;34m,\u001b[0m \u001b[0mdata\u001b[0m\u001b[0;34m)\u001b[0m\u001b[0;34m\u001b[0m\u001b[0;34m\u001b[0m\u001b[0m\n\u001b[1;32m    513\u001b[0m         \u001b[0;32mexcept\u001b[0m \u001b[0mException\u001b[0m \u001b[0;32mas\u001b[0m \u001b[0me\u001b[0m\u001b[0;34m:\u001b[0m\u001b[0;34m\u001b[0m\u001b[0;34m\u001b[0m\u001b[0m\n",
            "\u001b[0;32m/usr/lib/python3.6/multiprocessing/queues.py\u001b[0m in \u001b[0;36mget\u001b[0;34m(self, block, timeout)\u001b[0m\n\u001b[1;32m    102\u001b[0m                 \u001b[0;32mif\u001b[0m \u001b[0mblock\u001b[0m\u001b[0;34m:\u001b[0m\u001b[0;34m\u001b[0m\u001b[0;34m\u001b[0m\u001b[0m\n\u001b[1;32m    103\u001b[0m                     \u001b[0mtimeout\u001b[0m \u001b[0;34m=\u001b[0m \u001b[0mdeadline\u001b[0m \u001b[0;34m-\u001b[0m \u001b[0mtime\u001b[0m\u001b[0;34m.\u001b[0m\u001b[0mmonotonic\u001b[0m\u001b[0;34m(\u001b[0m\u001b[0;34m)\u001b[0m\u001b[0;34m\u001b[0m\u001b[0;34m\u001b[0m\u001b[0m\n\u001b[0;32m--> 104\u001b[0;31m                     \u001b[0;32mif\u001b[0m \u001b[0;32mnot\u001b[0m \u001b[0mself\u001b[0m\u001b[0;34m.\u001b[0m\u001b[0m_poll\u001b[0m\u001b[0;34m(\u001b[0m\u001b[0mtimeout\u001b[0m\u001b[0;34m)\u001b[0m\u001b[0;34m:\u001b[0m\u001b[0;34m\u001b[0m\u001b[0;34m\u001b[0m\u001b[0m\n\u001b[0m\u001b[1;32m    105\u001b[0m                         \u001b[0;32mraise\u001b[0m \u001b[0mEmpty\u001b[0m\u001b[0;34m\u001b[0m\u001b[0;34m\u001b[0m\u001b[0m\n\u001b[1;32m    106\u001b[0m                 \u001b[0;32melif\u001b[0m \u001b[0;32mnot\u001b[0m \u001b[0mself\u001b[0m\u001b[0;34m.\u001b[0m\u001b[0m_poll\u001b[0m\u001b[0;34m(\u001b[0m\u001b[0;34m)\u001b[0m\u001b[0;34m:\u001b[0m\u001b[0;34m\u001b[0m\u001b[0;34m\u001b[0m\u001b[0m\n",
            "\u001b[0;32m/usr/lib/python3.6/multiprocessing/connection.py\u001b[0m in \u001b[0;36mpoll\u001b[0;34m(self, timeout)\u001b[0m\n\u001b[1;32m    255\u001b[0m         \u001b[0mself\u001b[0m\u001b[0;34m.\u001b[0m\u001b[0m_check_closed\u001b[0m\u001b[0;34m(\u001b[0m\u001b[0;34m)\u001b[0m\u001b[0;34m\u001b[0m\u001b[0;34m\u001b[0m\u001b[0m\n\u001b[1;32m    256\u001b[0m         \u001b[0mself\u001b[0m\u001b[0;34m.\u001b[0m\u001b[0m_check_readable\u001b[0m\u001b[0;34m(\u001b[0m\u001b[0;34m)\u001b[0m\u001b[0;34m\u001b[0m\u001b[0;34m\u001b[0m\u001b[0m\n\u001b[0;32m--> 257\u001b[0;31m         \u001b[0;32mreturn\u001b[0m \u001b[0mself\u001b[0m\u001b[0;34m.\u001b[0m\u001b[0m_poll\u001b[0m\u001b[0;34m(\u001b[0m\u001b[0mtimeout\u001b[0m\u001b[0;34m)\u001b[0m\u001b[0;34m\u001b[0m\u001b[0;34m\u001b[0m\u001b[0m\n\u001b[0m\u001b[1;32m    258\u001b[0m \u001b[0;34m\u001b[0m\u001b[0m\n\u001b[1;32m    259\u001b[0m     \u001b[0;32mdef\u001b[0m \u001b[0m__enter__\u001b[0m\u001b[0;34m(\u001b[0m\u001b[0mself\u001b[0m\u001b[0;34m)\u001b[0m\u001b[0;34m:\u001b[0m\u001b[0;34m\u001b[0m\u001b[0;34m\u001b[0m\u001b[0m\n",
            "\u001b[0;32m/usr/lib/python3.6/multiprocessing/connection.py\u001b[0m in \u001b[0;36m_poll\u001b[0;34m(self, timeout)\u001b[0m\n\u001b[1;32m    412\u001b[0m \u001b[0;34m\u001b[0m\u001b[0m\n\u001b[1;32m    413\u001b[0m     \u001b[0;32mdef\u001b[0m \u001b[0m_poll\u001b[0m\u001b[0;34m(\u001b[0m\u001b[0mself\u001b[0m\u001b[0;34m,\u001b[0m \u001b[0mtimeout\u001b[0m\u001b[0;34m)\u001b[0m\u001b[0;34m:\u001b[0m\u001b[0;34m\u001b[0m\u001b[0;34m\u001b[0m\u001b[0m\n\u001b[0;32m--> 414\u001b[0;31m         \u001b[0mr\u001b[0m \u001b[0;34m=\u001b[0m \u001b[0mwait\u001b[0m\u001b[0;34m(\u001b[0m\u001b[0;34m[\u001b[0m\u001b[0mself\u001b[0m\u001b[0;34m]\u001b[0m\u001b[0;34m,\u001b[0m \u001b[0mtimeout\u001b[0m\u001b[0;34m)\u001b[0m\u001b[0;34m\u001b[0m\u001b[0;34m\u001b[0m\u001b[0m\n\u001b[0m\u001b[1;32m    415\u001b[0m         \u001b[0;32mreturn\u001b[0m \u001b[0mbool\u001b[0m\u001b[0;34m(\u001b[0m\u001b[0mr\u001b[0m\u001b[0;34m)\u001b[0m\u001b[0;34m\u001b[0m\u001b[0;34m\u001b[0m\u001b[0m\n\u001b[1;32m    416\u001b[0m \u001b[0;34m\u001b[0m\u001b[0m\n",
            "\u001b[0;32m/usr/lib/python3.6/multiprocessing/connection.py\u001b[0m in \u001b[0;36mwait\u001b[0;34m(object_list, timeout)\u001b[0m\n\u001b[1;32m    909\u001b[0m \u001b[0;34m\u001b[0m\u001b[0m\n\u001b[1;32m    910\u001b[0m             \u001b[0;32mwhile\u001b[0m \u001b[0;32mTrue\u001b[0m\u001b[0;34m:\u001b[0m\u001b[0;34m\u001b[0m\u001b[0;34m\u001b[0m\u001b[0m\n\u001b[0;32m--> 911\u001b[0;31m                 \u001b[0mready\u001b[0m \u001b[0;34m=\u001b[0m \u001b[0mselector\u001b[0m\u001b[0;34m.\u001b[0m\u001b[0mselect\u001b[0m\u001b[0;34m(\u001b[0m\u001b[0mtimeout\u001b[0m\u001b[0;34m)\u001b[0m\u001b[0;34m\u001b[0m\u001b[0;34m\u001b[0m\u001b[0m\n\u001b[0m\u001b[1;32m    912\u001b[0m                 \u001b[0;32mif\u001b[0m \u001b[0mready\u001b[0m\u001b[0;34m:\u001b[0m\u001b[0;34m\u001b[0m\u001b[0;34m\u001b[0m\u001b[0m\n\u001b[1;32m    913\u001b[0m                     \u001b[0;32mreturn\u001b[0m \u001b[0;34m[\u001b[0m\u001b[0mkey\u001b[0m\u001b[0;34m.\u001b[0m\u001b[0mfileobj\u001b[0m \u001b[0;32mfor\u001b[0m \u001b[0;34m(\u001b[0m\u001b[0mkey\u001b[0m\u001b[0;34m,\u001b[0m \u001b[0mevents\u001b[0m\u001b[0;34m)\u001b[0m \u001b[0;32min\u001b[0m \u001b[0mready\u001b[0m\u001b[0;34m]\u001b[0m\u001b[0;34m\u001b[0m\u001b[0;34m\u001b[0m\u001b[0m\n",
            "\u001b[0;32m/usr/lib/python3.6/selectors.py\u001b[0m in \u001b[0;36mselect\u001b[0;34m(self, timeout)\u001b[0m\n\u001b[1;32m    374\u001b[0m             \u001b[0mready\u001b[0m \u001b[0;34m=\u001b[0m \u001b[0;34m[\u001b[0m\u001b[0;34m]\u001b[0m\u001b[0;34m\u001b[0m\u001b[0;34m\u001b[0m\u001b[0m\n\u001b[1;32m    375\u001b[0m             \u001b[0;32mtry\u001b[0m\u001b[0;34m:\u001b[0m\u001b[0;34m\u001b[0m\u001b[0;34m\u001b[0m\u001b[0m\n\u001b[0;32m--> 376\u001b[0;31m                 \u001b[0mfd_event_list\u001b[0m \u001b[0;34m=\u001b[0m \u001b[0mself\u001b[0m\u001b[0;34m.\u001b[0m\u001b[0m_poll\u001b[0m\u001b[0;34m.\u001b[0m\u001b[0mpoll\u001b[0m\u001b[0;34m(\u001b[0m\u001b[0mtimeout\u001b[0m\u001b[0;34m)\u001b[0m\u001b[0;34m\u001b[0m\u001b[0;34m\u001b[0m\u001b[0m\n\u001b[0m\u001b[1;32m    377\u001b[0m             \u001b[0;32mexcept\u001b[0m \u001b[0mInterruptedError\u001b[0m\u001b[0;34m:\u001b[0m\u001b[0;34m\u001b[0m\u001b[0;34m\u001b[0m\u001b[0m\n\u001b[1;32m    378\u001b[0m                 \u001b[0;32mreturn\u001b[0m \u001b[0mready\u001b[0m\u001b[0;34m\u001b[0m\u001b[0;34m\u001b[0m\u001b[0m\n",
            "\u001b[0;31mKeyboardInterrupt\u001b[0m: "
          ]
        }
      ]
    },
    {
      "cell_type": "code",
      "metadata": {
        "id": "5FMS6-Tyi2X8",
        "colab_type": "code",
        "colab": {}
      },
      "source": [
        "def train_model(model, dataloaders, criterion, optimizer, num_epochs=25, is_inception=False):\n",
        "    since = time.time()\n",
        "\n",
        "    val_acc_history = []\n",
        "\n",
        "    best_model_wts = copy.deepcopy(model.state_dict())\n",
        "    best_acc = 0.0\n",
        "\n",
        "    for epoch in range(num_epochs):\n",
        "        print('Epoch {}/{}'.format(epoch, num_epochs - 1))\n",
        "        print('-' * 10)\n",
        "\n",
        "        # Each epoch has a training and validation phase\n",
        "        for phase in ['train', 'val']:\n",
        "            if phase == 'train':\n",
        "                model.train()  # Set model to training mode\n",
        "            else:\n",
        "                model.eval()   # Set model to evaluate mode\n",
        "\n",
        "            running_loss = 0.0\n",
        "            running_corrects = 0\n",
        "\n",
        "            # Iterate over data.\n",
        "            for inputs, labels in dataloaders[phase]:\n",
        "                \n",
        "                inputs = inputs.permute(1, 0, 2, 3, 4)\n",
        "                inputs = inputs.to(device)\n",
        "#                 inputVariable1 = Variable(inputs.permute(1, 0, 2, 3, 4).to(device))\n",
        "                labels = labels.to(device)\n",
        "\n",
        "                # zero the parameter gradients\n",
        "                optimizer.zero_grad()\n",
        "\n",
        "                # forward\n",
        "                # track history if only in train\n",
        "                with torch.set_grad_enabled(phase == 'train'):\n",
        "                    # Get model outputs and calculate loss\n",
        "                    # Special case for inception because in training it has an auxiliary output. In train\n",
        "                    #   mode we calculate the loss by summing the final output and the auxiliary output\n",
        "                    #   but in testing we only consider the final output.\n",
        "                    if is_inception and phase == 'train':\n",
        "                        # From https://discuss.pytorch.org/t/how-to-optimize-inception-model-with-auxiliary-classifiers/7958\n",
        "                        outputs, aux_outputs = model(inputs)\n",
        "                        loss1 = criterion(outputs, labels)\n",
        "                        loss2 = criterion(aux_outputs, labels)\n",
        "                        loss = loss1 + 0.4*loss2\n",
        "                    else:\n",
        "                        outputs = model(inputs)\n",
        "                        loss = criterion(outputs, labels)\n",
        "\n",
        "                    _, preds = torch.max(outputs, 1)\n",
        "\n",
        "                    # backward + optimize only if in training phase\n",
        "                    if phase == 'train':\n",
        "                        loss.backward()\n",
        "                        optimizer.step()\n",
        "\n",
        "                # statistics\n",
        "                running_loss += loss.item() * inputs.size(0)\n",
        "                running_corrects += torch.sum(preds == labels.data)\n",
        "\n",
        "            epoch_loss = running_loss / len(dataloaders[phase].dataset)\n",
        "            epoch_acc = running_corrects.double() / len(dataloaders[phase].dataset)\n",
        "\n",
        "            print('{} Loss: {:.4f} Acc: {:.4f}'.format(phase, epoch_loss, epoch_acc))\n",
        "\n",
        "            # deep copy the model\n",
        "            if phase == 'val' and epoch_acc > best_acc:\n",
        "                best_acc = epoch_acc\n",
        "                best_model_wts = copy.deepcopy(model.state_dict())\n",
        "            if phase == 'val':\n",
        "                val_acc_history.append(epoch_acc)\n",
        "\n",
        "        print()\n",
        "\n",
        "    time_elapsed = time.time() - since\n",
        "    print('Training complete in {:.0f}m {:.0f}s'.format(time_elapsed // 60, time_elapsed % 60))\n",
        "    print('Best val Acc: {:4f}'.format(best_acc))\n",
        "\n",
        "    # load best model weights\n",
        "    model.load_state_dict(best_model_wts)\n",
        "    return model, val_acc_history"
      ],
      "execution_count": 0,
      "outputs": []
    },
    {
      "cell_type": "code",
      "metadata": {
        "id": "sf0jxrAWd4Sx",
        "colab_type": "code",
        "outputId": "fead6f42-ba3c-4e88-d41e-98789f10ee53",
        "colab": {
          "base_uri": "https://localhost:8080/",
          "height": 34
        }
      },
      "source": [
        "\n",
        "path_violence = '/content/drive/My Drive/VIOLENCE DATASETS/HockeyFightsFrames/Fights'\n",
        "path_noviolence = '/content/drive/My Drive/VIOLENCE DATASETS/HockeyFightsFrames/noFights'\n",
        "\n",
        "datasetAll, labelsAll, numFramesAll = createDataset(path_violence,path_noviolence)\n",
        "\n",
        "len(datasetAll), len(labelsAll), len(numFramesAll)"
      ],
      "execution_count": 0,
      "outputs": [
        {
          "output_type": "execute_result",
          "data": {
            "text/plain": [
              "(1000, 1000, 1000)"
            ]
          },
          "metadata": {
            "tags": []
          },
          "execution_count": 13
        }
      ]
    },
    {
      "cell_type": "code",
      "metadata": {
        "id": "-3tvtvp76xJ6",
        "colab_type": "code",
        "outputId": "fa516a0c-e917-4586-8acb-8f2bdba9b45c",
        "colab": {
          "base_uri": "https://localhost:8080/",
          "height": 68
        }
      },
      "source": [
        "# Send the model to GPU\n",
        "# model_ft = model_ft.to(device)\n",
        "\"\"\" Alexnet\n",
        "\"\"\"\n",
        "model = None\n",
        "model = ViolenceModel(2)\n",
        "# set_parameter_requires_grad(model, feature_extract)\n",
        "\n",
        "model.to(device)\n",
        "\n",
        "# Gather the parameters to be optimized/updated in this run. If we are\n",
        "#  finetuning we will be updating all parameters. However, if we are\n",
        "#  doing feature extract method, we will only update the parameters\n",
        "#  that we have just initialized, i.e. the parameters with requires_grad\n",
        "#  is True.\n",
        "params_to_update = model.parameters()\n",
        "print(\"Params to learn:\")\n",
        "if feature_extract:\n",
        "    params_to_update = []\n",
        "    for name,param in model.named_parameters():\n",
        "        if param.requires_grad == True:\n",
        "            params_to_update.append(param)\n",
        "            print(\"\\t\",name)\n",
        "else:\n",
        "    for name,param in model.named_parameters():\n",
        "        if param.requires_grad == True:\n",
        "            print(\"\\t\",name)\n",
        "\n",
        "# Observe that all parameters are being optimized\n",
        "optimizer_ft = optim.SGD(params_to_update, lr=0.001, momentum=0.9)"
      ],
      "execution_count": 0,
      "outputs": [
        {
          "output_type": "stream",
          "text": [
            "Params to learn:\n",
            "\t linear.weight\n",
            "\t linear.bias\n"
          ],
          "name": "stdout"
        }
      ]
    },
    {
      "cell_type": "code",
      "metadata": {
        "id": "Gzd75uJc7C9d",
        "colab_type": "code",
        "colab": {}
      },
      "source": [
        "# Setup the loss fxn\n",
        "criterion = nn.CrossEntropyLoss()\n"
      ],
      "execution_count": 0,
      "outputs": []
    },
    {
      "cell_type": "code",
      "metadata": {
        "id": "Ur6BcRiGtplt",
        "colab_type": "code",
        "outputId": "83442963-594d-4fb7-cd8f-a2667864f2fa",
        "colab": {
          "base_uri": "https://localhost:8080/",
          "height": 1000
        }
      },
      "source": [
        "from kfolds import *\n",
        "from operator import itemgetter \n",
        "import time\n",
        "import copy\n",
        "\n",
        "seqLen = 20\n",
        "\n",
        "for train_idx, test_idx in k_folds(n_splits = 5, subjects = len(datasetAll)):\n",
        "  dataset_train = list(itemgetter(*train_idx)(datasetAll)) \n",
        "  dataset_train_labels =  list(itemgetter(*train_idx)(labelsAll)) \n",
        "  \n",
        "  dataset_test = list(itemgetter(*test_idx)(datasetAll)) \n",
        "  dataset_test_labels =  list(itemgetter(*test_idx)(labelsAll))\n",
        "  \n",
        "  image_datasets = {\n",
        "    'train':ViolenceDatasetVideos(dataset_train,dataset_train_labels,data_transforms['train'],seqLen),\n",
        "    'val': ViolenceDatasetVideos(dataset_test,dataset_test_labels,data_transforms['val'],seqLen)\n",
        "  }\n",
        "  dataloaders_dict = {\n",
        "    'train': torch.utils.data.DataLoader(image_datasets['train'], batch_size=batch_size, shuffle=True, num_workers=4),\n",
        "    'val': torch.utils.data.DataLoader(image_datasets['val'], batch_size=batch_size, shuffle=True, num_workers=4)\n",
        "  }\n",
        "  \n",
        "  # Train and evaluate\n",
        "  model, hist = train_model(model, dataloaders_dict, criterion, optimizer_ft, num_epochs=num_epochs, is_inception=False)\n",
        "\n",
        "  \n",
        "#   print('train_idx',len(train_idx))\n",
        "#   print(train_idx)\n",
        "#   print('test_idx',len(test_idx))\n",
        "#   print(test_idx)"
      ],
      "execution_count": 32,
      "outputs": [
        {
          "output_type": "stream",
          "text": [
            "Epoch 0/14\n",
            "----------\n",
            "train Loss: 0.3684 Acc: 0.8287\n",
            "val Loss: 1.2324 Acc: 0.6500\n",
            "\n",
            "Epoch 1/14\n",
            "----------\n",
            "train Loss: 0.3910 Acc: 0.8688\n",
            "val Loss: 1.0439 Acc: 0.7100\n",
            "\n",
            "Epoch 2/14\n",
            "----------\n",
            "train Loss: 0.3186 Acc: 0.8925\n",
            "val Loss: 0.1082 Acc: 0.9800\n",
            "\n",
            "Epoch 3/14\n",
            "----------\n",
            "train Loss: 0.2119 Acc: 0.9250\n",
            "val Loss: 0.3618 Acc: 0.9100\n",
            "\n",
            "Epoch 4/14\n",
            "----------\n",
            "train Loss: 0.2940 Acc: 0.8975\n",
            "val Loss: 0.2939 Acc: 0.9300\n",
            "\n",
            "Epoch 5/14\n",
            "----------\n",
            "train Loss: 0.2864 Acc: 0.9125\n",
            "val Loss: 0.3038 Acc: 0.9500\n",
            "\n",
            "Epoch 6/14\n",
            "----------\n",
            "train Loss: 0.3160 Acc: 0.9100\n",
            "val Loss: 0.2650 Acc: 0.9450\n",
            "\n",
            "Epoch 7/14\n",
            "----------\n",
            "train Loss: 0.2334 Acc: 0.9275\n",
            "val Loss: 0.1833 Acc: 0.9750\n",
            "\n",
            "Epoch 8/14\n",
            "----------\n",
            "train Loss: 0.2662 Acc: 0.9175\n",
            "val Loss: 0.5157 Acc: 0.9200\n",
            "\n",
            "Epoch 9/14\n",
            "----------\n",
            "train Loss: 0.2028 Acc: 0.9413\n",
            "val Loss: 1.0253 Acc: 0.8150\n",
            "\n",
            "Epoch 10/14\n",
            "----------\n",
            "train Loss: 0.1926 Acc: 0.9400\n",
            "val Loss: 0.4897 Acc: 0.9250\n",
            "\n",
            "Epoch 11/14\n",
            "----------\n",
            "train Loss: 0.2674 Acc: 0.9225\n",
            "val Loss: 0.5509 Acc: 0.9050\n",
            "\n",
            "Epoch 12/14\n",
            "----------\n",
            "train Loss: 0.1831 Acc: 0.9400\n",
            "val Loss: 0.2002 Acc: 0.9550\n",
            "\n",
            "Epoch 13/14\n",
            "----------\n",
            "train Loss: 0.1949 Acc: 0.9375\n",
            "val Loss: 0.2905 Acc: 0.9350\n",
            "\n",
            "Epoch 14/14\n",
            "----------\n",
            "train Loss: 0.3100 Acc: 0.9175\n",
            "val Loss: 0.4836 Acc: 0.9000\n",
            "\n",
            "Training complete in 56m 42s\n",
            "Best val Acc: 0.980000\n",
            "Epoch 0/14\n",
            "----------\n",
            "train Loss: 0.2809 Acc: 0.9100\n",
            "val Loss: 0.5328 Acc: 0.8700\n",
            "\n",
            "Epoch 1/14\n",
            "----------\n",
            "train Loss: 0.2381 Acc: 0.9050\n",
            "val Loss: 0.5403 Acc: 0.9050\n",
            "\n",
            "Epoch 2/14\n",
            "----------\n",
            "train Loss: 0.2138 Acc: 0.9287\n",
            "val Loss: 0.2143 Acc: 0.9550\n",
            "\n",
            "Epoch 3/14\n",
            "----------\n",
            "train Loss: 0.2325 Acc: 0.9300\n",
            "val Loss: 0.3199 Acc: 0.9400\n",
            "\n",
            "Epoch 4/14\n",
            "----------\n",
            "train Loss: 0.2234 Acc: 0.9325\n",
            "val Loss: 0.3743 Acc: 0.9400\n",
            "\n",
            "Epoch 5/14\n",
            "----------\n",
            "train Loss: 0.2311 Acc: 0.9375\n",
            "val Loss: 0.1959 Acc: 0.9700\n",
            "\n",
            "Epoch 6/14\n",
            "----------\n",
            "train Loss: 0.2601 Acc: 0.9350\n",
            "val Loss: 0.9239 Acc: 0.8600\n",
            "\n",
            "Epoch 7/14\n",
            "----------\n",
            "train Loss: 0.1793 Acc: 0.9437\n",
            "val Loss: 0.2376 Acc: 0.9650\n",
            "\n",
            "Epoch 8/14\n",
            "----------\n",
            "train Loss: 0.1941 Acc: 0.9375\n",
            "val Loss: 0.4376 Acc: 0.9250\n",
            "\n",
            "Epoch 9/14\n",
            "----------\n",
            "train Loss: 0.1516 Acc: 0.9487\n",
            "val Loss: 0.0907 Acc: 0.9800\n",
            "\n",
            "Epoch 10/14\n",
            "----------\n",
            "train Loss: 0.3020 Acc: 0.9163\n",
            "val Loss: 1.3910 Acc: 0.7700\n",
            "\n",
            "Epoch 11/14\n",
            "----------\n",
            "train Loss: 0.2411 Acc: 0.9387\n",
            "val Loss: 0.2309 Acc: 0.9500\n",
            "\n",
            "Epoch 12/14\n",
            "----------\n",
            "train Loss: 0.2490 Acc: 0.9450\n",
            "val Loss: 0.5871 Acc: 0.9050\n",
            "\n",
            "Epoch 13/14\n",
            "----------\n",
            "train Loss: 0.1676 Acc: 0.9425\n",
            "val Loss: 1.9778 Acc: 0.7250\n",
            "\n",
            "Epoch 14/14\n",
            "----------\n",
            "train Loss: 0.2561 Acc: 0.9337\n",
            "val Loss: 0.5047 Acc: 0.9050\n",
            "\n",
            "Training complete in 41m 41s\n",
            "Best val Acc: 0.980000\n",
            "Epoch 0/14\n",
            "----------\n",
            "train Loss: 0.2758 Acc: 0.9250\n",
            "val Loss: 0.2815 Acc: 0.9500\n",
            "\n",
            "Epoch 1/14\n",
            "----------\n",
            "train Loss: 0.2399 Acc: 0.9275\n",
            "val Loss: 0.2926 Acc: 0.9500\n",
            "\n",
            "Epoch 2/14\n",
            "----------\n",
            "train Loss: 0.2232 Acc: 0.9313\n",
            "val Loss: 0.4451 Acc: 0.9250\n",
            "\n",
            "Epoch 3/14\n",
            "----------\n",
            "train Loss: 0.2061 Acc: 0.9425\n",
            "val Loss: 0.3680 Acc: 0.9150\n",
            "\n",
            "Epoch 4/14\n",
            "----------\n",
            "train Loss: 0.3012 Acc: 0.9300\n",
            "val Loss: 0.3971 Acc: 0.9250\n",
            "\n",
            "Epoch 5/14\n",
            "----------\n",
            "train Loss: 0.2712 Acc: 0.9400\n",
            "val Loss: 0.4202 Acc: 0.9200\n",
            "\n",
            "Epoch 6/14\n",
            "----------\n",
            "train Loss: 0.1948 Acc: 0.9400\n",
            "val Loss: 0.5132 Acc: 0.9200\n",
            "\n",
            "Epoch 7/14\n",
            "----------\n",
            "train Loss: 0.2737 Acc: 0.9387\n",
            "val Loss: 0.8084 Acc: 0.8450\n",
            "\n",
            "Epoch 8/14\n",
            "----------\n",
            "train Loss: 0.2655 Acc: 0.9437\n",
            "val Loss: 1.1284 Acc: 0.7900\n",
            "\n",
            "Epoch 9/14\n",
            "----------\n",
            "train Loss: 0.2160 Acc: 0.9387\n",
            "val Loss: 0.3746 Acc: 0.9100\n",
            "\n",
            "Epoch 10/14\n",
            "----------\n",
            "train Loss: 0.1997 Acc: 0.9475\n",
            "val Loss: 0.5997 Acc: 0.8850\n",
            "\n",
            "Epoch 11/14\n",
            "----------\n",
            "train Loss: 0.1856 Acc: 0.9437\n",
            "val Loss: 0.5357 Acc: 0.9100\n",
            "\n",
            "Epoch 12/14\n",
            "----------\n",
            "train Loss: 0.2277 Acc: 0.9300\n",
            "val Loss: 0.5957 Acc: 0.9000\n",
            "\n",
            "Epoch 13/14\n",
            "----------\n",
            "train Loss: 0.2158 Acc: 0.9500\n",
            "val Loss: 0.5276 Acc: 0.9100\n",
            "\n",
            "Epoch 14/14\n",
            "----------\n",
            "train Loss: 0.1200 Acc: 0.9663\n",
            "val Loss: 0.6263 Acc: 0.8800\n",
            "\n",
            "Training complete in 41m 53s\n",
            "Best val Acc: 0.950000\n",
            "Epoch 0/14\n",
            "----------\n",
            "train Loss: 0.2089 Acc: 0.9300\n",
            "val Loss: 0.2087 Acc: 0.9100\n",
            "\n",
            "Epoch 1/14\n",
            "----------\n",
            "train Loss: 0.2316 Acc: 0.9337\n",
            "val Loss: 0.5232 Acc: 0.8300\n",
            "\n",
            "Epoch 2/14\n",
            "----------\n",
            "train Loss: 0.2291 Acc: 0.9350\n",
            "val Loss: 0.1270 Acc: 0.9550\n",
            "\n",
            "Epoch 3/14\n",
            "----------\n",
            "train Loss: 0.1914 Acc: 0.9375\n",
            "val Loss: 1.1454 Acc: 0.7250\n",
            "\n",
            "Epoch 4/14\n",
            "----------\n",
            "train Loss: 0.1870 Acc: 0.9487\n",
            "val Loss: 0.1671 Acc: 0.9500\n",
            "\n",
            "Epoch 5/14\n",
            "----------\n",
            "train Loss: 0.1937 Acc: 0.9550\n",
            "val Loss: 1.0316 Acc: 0.7500\n",
            "\n",
            "Epoch 6/14\n",
            "----------\n",
            "train Loss: 0.1405 Acc: 0.9550\n",
            "val Loss: 0.2013 Acc: 0.9350\n",
            "\n",
            "Epoch 7/14\n",
            "----------\n",
            "train Loss: 0.0993 Acc: 0.9650\n",
            "val Loss: 0.3062 Acc: 0.9100\n",
            "\n",
            "Epoch 8/14\n",
            "----------\n",
            "train Loss: 0.1346 Acc: 0.9550\n",
            "val Loss: 0.2250 Acc: 0.9300\n",
            "\n",
            "Epoch 9/14\n",
            "----------\n",
            "train Loss: 0.0968 Acc: 0.9637\n",
            "val Loss: 0.0963 Acc: 0.9700\n",
            "\n",
            "Epoch 10/14\n",
            "----------\n",
            "train Loss: 0.1895 Acc: 0.9337\n",
            "val Loss: 0.2569 Acc: 0.9100\n",
            "\n",
            "Epoch 11/14\n",
            "----------\n",
            "train Loss: 0.1588 Acc: 0.9437\n",
            "val Loss: 0.2162 Acc: 0.9050\n",
            "\n",
            "Epoch 12/14\n",
            "----------\n",
            "train Loss: 0.0875 Acc: 0.9675\n",
            "val Loss: 0.0742 Acc: 0.9750\n",
            "\n",
            "Epoch 13/14\n",
            "----------\n",
            "train Loss: 0.1296 Acc: 0.9500\n",
            "val Loss: 0.1946 Acc: 0.9150\n",
            "\n",
            "Epoch 14/14\n",
            "----------\n",
            "train Loss: 0.1464 Acc: 0.9513\n",
            "val Loss: 0.5183 Acc: 0.8550\n",
            "\n",
            "Training complete in 39m 58s\n",
            "Best val Acc: 0.975000\n",
            "Epoch 0/14\n",
            "----------\n",
            "train Loss: 0.2825 Acc: 0.9225\n",
            "val Loss: 0.0080 Acc: 0.9950\n",
            "\n",
            "Epoch 1/14\n",
            "----------\n",
            "train Loss: 0.3051 Acc: 0.9150\n",
            "val Loss: 0.0064 Acc: 0.9950\n",
            "\n",
            "Epoch 2/14\n",
            "----------\n",
            "train Loss: 0.1794 Acc: 0.9400\n",
            "val Loss: 0.2491 Acc: 0.9300\n",
            "\n",
            "Epoch 3/14\n",
            "----------\n",
            "train Loss: 0.2500 Acc: 0.9313\n",
            "val Loss: 0.0013 Acc: 0.9950\n",
            "\n",
            "Epoch 4/14\n",
            "----------\n",
            "train Loss: 0.3199 Acc: 0.9250\n",
            "val Loss: 0.3209 Acc: 0.8950\n",
            "\n",
            "Epoch 5/14\n",
            "----------\n",
            "train Loss: 0.1344 Acc: 0.9463\n",
            "val Loss: 0.0291 Acc: 0.9950\n",
            "\n",
            "Epoch 6/14\n",
            "----------\n",
            "train Loss: 0.1967 Acc: 0.9375\n",
            "val Loss: 0.0849 Acc: 0.9700\n",
            "\n",
            "Epoch 7/14\n",
            "----------\n",
            "train Loss: 0.1422 Acc: 0.9450\n",
            "val Loss: 0.0512 Acc: 0.9900\n",
            "\n",
            "Epoch 8/14\n",
            "----------\n",
            "train Loss: 0.1772 Acc: 0.9487\n",
            "val Loss: 0.2362 Acc: 0.9250\n",
            "\n",
            "Epoch 9/14\n",
            "----------\n",
            "train Loss: 0.1522 Acc: 0.9537\n",
            "val Loss: 0.1357 Acc: 0.9500\n",
            "\n",
            "Epoch 10/14\n",
            "----------\n",
            "train Loss: 0.1538 Acc: 0.9537\n",
            "val Loss: 0.0905 Acc: 0.9650\n",
            "\n",
            "Epoch 11/14\n",
            "----------\n",
            "train Loss: 0.1967 Acc: 0.9500\n",
            "val Loss: 0.4194 Acc: 0.9050\n",
            "\n",
            "Epoch 12/14\n",
            "----------\n",
            "train Loss: 0.1722 Acc: 0.9500\n",
            "val Loss: 0.0557 Acc: 0.9900\n",
            "\n",
            "Epoch 13/14\n",
            "----------\n",
            "train Loss: 0.1727 Acc: 0.9513\n",
            "val Loss: 0.0996 Acc: 0.9900\n",
            "\n",
            "Epoch 14/14\n",
            "----------\n",
            "train Loss: 0.2074 Acc: 0.9437\n",
            "val Loss: 0.6707 Acc: 0.8400\n",
            "\n",
            "Training complete in 40m 17s\n",
            "Best val Acc: 0.995000\n"
          ],
          "name": "stdout"
        }
      ]
    },
    {
      "cell_type": "code",
      "metadata": {
        "id": "2LnzNz2v79HU",
        "colab_type": "code",
        "colab": {}
      },
      "source": [
        "# load additional module\n",
        "import pickle\n",
        "\n",
        "# define a list of places\n",
        "# placesList = ['Berlin', 'Cape Town', 'Sydney', 'Moscow']\n",
        "data_file = '/content/drive/My Drive/VIOLENCE DATASETS/HockeyFightsFrames/history.txt'\n",
        "with open(data_file, 'wb') as filehandle:\n",
        "    # store the data as binary data stream\n",
        "    pickle.dump(hist, filehandle)"
      ],
      "execution_count": 0,
      "outputs": []
    },
    {
      "cell_type": "code",
      "metadata": {
        "id": "WTMNaDbiEkel",
        "colab_type": "code",
        "colab": {
          "base_uri": "https://localhost:8080/",
          "height": 71
        },
        "outputId": "002f0c79-d81d-4998-e7bc-94607777b155"
      },
      "source": [
        "with open(data_file, 'rb') as filehandle:\n",
        "    # read the data as binary data stream\n",
        "    hist2 = pickle.load(filehandle)\n",
        "\n",
        "print(type(hist2))\n",
        "print(hist2)    "
      ],
      "execution_count": 34,
      "outputs": [
        {
          "output_type": "stream",
          "text": [
            "<class 'list'>\n",
            "[tensor(0.9950, device='cuda:0', dtype=torch.float64), tensor(0.9950, device='cuda:0', dtype=torch.float64), tensor(0.9300, device='cuda:0', dtype=torch.float64), tensor(0.9950, device='cuda:0', dtype=torch.float64), tensor(0.8950, device='cuda:0', dtype=torch.float64), tensor(0.9950, device='cuda:0', dtype=torch.float64), tensor(0.9700, device='cuda:0', dtype=torch.float64), tensor(0.9900, device='cuda:0', dtype=torch.float64), tensor(0.9250, device='cuda:0', dtype=torch.float64), tensor(0.9500, device='cuda:0', dtype=torch.float64), tensor(0.9650, device='cuda:0', dtype=torch.float64), tensor(0.9050, device='cuda:0', dtype=torch.float64), tensor(0.9900, device='cuda:0', dtype=torch.float64), tensor(0.9900, device='cuda:0', dtype=torch.float64), tensor(0.8400, device='cuda:0', dtype=torch.float64)]\n"
          ],
          "name": "stdout"
        }
      ]
    },
    {
      "cell_type": "code",
      "metadata": {
        "id": "tYc1E0xLdeBP",
        "colab_type": "code",
        "colab": {
          "base_uri": "https://localhost:8080/",
          "height": 1000
        },
        "outputId": "129ffa7b-6a99-45fe-9439-75756efb8418"
      },
      "source": [
        "# !pip install visdom\n",
        "# from visdom import Visdom\n",
        "! npm install -g localtunnel\n",
        "get_ipython().system_raw('/usr/local/bin/python -m pip install visdom')\n",
        "get_ipython().system_raw('/usr/local/bin/python -m visdom.server -port 6006 >> visdomlog.txt 2>&1 &')\n",
        "get_ipython().system_raw('lt --port 6006 >> url.txt 2>&1 &')\n",
        "import time\n",
        "time.sleep(5)\n",
        "! cat url.txt\n",
        "import visdom\n",
        "time.sleep(5)\n",
        "vis = visdom.Visdom(port='6006')\n",
        "print(vis)\n",
        "time.sleep(3)\n",
        "vis.text('testing')\n",
        "! cat visdomlog.txt\n"
      ],
      "execution_count": 4,
      "outputs": [
        {
          "output_type": "stream",
          "text": [
            "\u001b[K\u001b[?25h/tools/node/bin/lt -> /tools/node/lib/node_modules/localtunnel/bin/client\n",
            "+ localtunnel@1.9.2\n",
            "added 55 packages from 34 contributors in 6.675s\n",
            "your url is: https://weak-dingo-28.localtunnel.me\n"
          ],
          "name": "stdout"
        },
        {
          "output_type": "stream",
          "text": [
            "WARNING:root:Setting up a new session...\n",
            "Traceback (most recent call last):\n",
            "  File \"/usr/local/lib/python3.6/dist-packages/urllib3/connection.py\", line 159, in _new_conn\n",
            "    (self._dns_host, self.port), self.timeout, **extra_kw)\n",
            "  File \"/usr/local/lib/python3.6/dist-packages/urllib3/util/connection.py\", line 80, in create_connection\n",
            "    raise err\n",
            "  File \"/usr/local/lib/python3.6/dist-packages/urllib3/util/connection.py\", line 70, in create_connection\n",
            "    sock.connect(sa)\n",
            "ConnectionRefusedError: [Errno 111] Connection refused\n",
            "\n",
            "During handling of the above exception, another exception occurred:\n",
            "\n",
            "Traceback (most recent call last):\n",
            "  File \"/usr/local/lib/python3.6/dist-packages/urllib3/connectionpool.py\", line 600, in urlopen\n",
            "    chunked=chunked)\n",
            "  File \"/usr/local/lib/python3.6/dist-packages/urllib3/connectionpool.py\", line 354, in _make_request\n",
            "    conn.request(method, url, **httplib_request_kw)\n",
            "  File \"/usr/lib/python3.6/http/client.py\", line 1239, in request\n",
            "    self._send_request(method, url, body, headers, encode_chunked)\n",
            "  File \"/usr/lib/python3.6/http/client.py\", line 1285, in _send_request\n",
            "    self.endheaders(body, encode_chunked=encode_chunked)\n",
            "  File \"/usr/lib/python3.6/http/client.py\", line 1234, in endheaders\n",
            "    self._send_output(message_body, encode_chunked=encode_chunked)\n",
            "  File \"/usr/lib/python3.6/http/client.py\", line 1026, in _send_output\n",
            "    self.send(msg)\n",
            "  File \"/usr/lib/python3.6/http/client.py\", line 964, in send\n",
            "    self.connect()\n",
            "  File \"/usr/local/lib/python3.6/dist-packages/urllib3/connection.py\", line 181, in connect\n",
            "    conn = self._new_conn()\n",
            "  File \"/usr/local/lib/python3.6/dist-packages/urllib3/connection.py\", line 168, in _new_conn\n",
            "    self, \"Failed to establish a new connection: %s\" % e)\n",
            "urllib3.exceptions.NewConnectionError: <urllib3.connection.HTTPConnection object at 0x7f4543344cc0>: Failed to establish a new connection: [Errno 111] Connection refused\n",
            "\n",
            "During handling of the above exception, another exception occurred:\n",
            "\n",
            "Traceback (most recent call last):\n",
            "  File \"/usr/local/lib/python3.6/dist-packages/requests/adapters.py\", line 449, in send\n",
            "    timeout=timeout\n",
            "  File \"/usr/local/lib/python3.6/dist-packages/urllib3/connectionpool.py\", line 638, in urlopen\n",
            "    _stacktrace=sys.exc_info()[2])\n",
            "  File \"/usr/local/lib/python3.6/dist-packages/urllib3/util/retry.py\", line 399, in increment\n",
            "    raise MaxRetryError(_pool, url, error or ResponseError(cause))\n",
            "urllib3.exceptions.MaxRetryError: HTTPConnectionPool(host='localhost', port=6006): Max retries exceeded with url: /env/main (Caused by NewConnectionError('<urllib3.connection.HTTPConnection object at 0x7f4543344cc0>: Failed to establish a new connection: [Errno 111] Connection refused',))\n",
            "\n",
            "During handling of the above exception, another exception occurred:\n",
            "\n",
            "Traceback (most recent call last):\n",
            "  File \"/usr/local/lib/python3.6/dist-packages/visdom/__init__.py\", line 548, in _send\n",
            "    data=json.dumps(msg),\n",
            "  File \"/usr/local/lib/python3.6/dist-packages/requests/sessions.py\", line 581, in post\n",
            "    return self.request('POST', url, data=data, json=json, **kwargs)\n",
            "  File \"/usr/local/lib/python3.6/dist-packages/requests/sessions.py\", line 533, in request\n",
            "    resp = self.send(prep, **send_kwargs)\n",
            "  File \"/usr/local/lib/python3.6/dist-packages/requests/sessions.py\", line 646, in send\n",
            "    r = adapter.send(request, **kwargs)\n",
            "  File \"/usr/local/lib/python3.6/dist-packages/requests/adapters.py\", line 516, in send\n",
            "    raise ConnectionError(e, request=request)\n",
            "requests.exceptions.ConnectionError: HTTPConnectionPool(host='localhost', port=6006): Max retries exceeded with url: /env/main (Caused by NewConnectionError('<urllib3.connection.HTTPConnection object at 0x7f4543344cc0>: Failed to establish a new connection: [Errno 111] Connection refused',))\n",
            "ERROR:visdom:[Errno 111] Connection refused\n"
          ],
          "name": "stderr"
        },
        {
          "output_type": "stream",
          "text": [
            "Exception in user code:\n",
            "------------------------------------------------------------\n",
            "<visdom.Visdom object at 0x7f458fd84dd8>\n",
            "Exception in user code:\n",
            "------------------------------------------------------------\n"
          ],
          "name": "stdout"
        },
        {
          "output_type": "stream",
          "text": [
            "Traceback (most recent call last):\n",
            "  File \"/usr/local/lib/python3.6/dist-packages/urllib3/connection.py\", line 159, in _new_conn\n",
            "    (self._dns_host, self.port), self.timeout, **extra_kw)\n",
            "  File \"/usr/local/lib/python3.6/dist-packages/urllib3/util/connection.py\", line 80, in create_connection\n",
            "    raise err\n",
            "  File \"/usr/local/lib/python3.6/dist-packages/urllib3/util/connection.py\", line 70, in create_connection\n",
            "    sock.connect(sa)\n",
            "ConnectionRefusedError: [Errno 111] Connection refused\n",
            "\n",
            "During handling of the above exception, another exception occurred:\n",
            "\n",
            "Traceback (most recent call last):\n",
            "  File \"/usr/local/lib/python3.6/dist-packages/urllib3/connectionpool.py\", line 600, in urlopen\n",
            "    chunked=chunked)\n",
            "  File \"/usr/local/lib/python3.6/dist-packages/urllib3/connectionpool.py\", line 354, in _make_request\n",
            "    conn.request(method, url, **httplib_request_kw)\n",
            "  File \"/usr/lib/python3.6/http/client.py\", line 1239, in request\n",
            "    self._send_request(method, url, body, headers, encode_chunked)\n",
            "  File \"/usr/lib/python3.6/http/client.py\", line 1285, in _send_request\n",
            "    self.endheaders(body, encode_chunked=encode_chunked)\n",
            "  File \"/usr/lib/python3.6/http/client.py\", line 1234, in endheaders\n",
            "    self._send_output(message_body, encode_chunked=encode_chunked)\n",
            "  File \"/usr/lib/python3.6/http/client.py\", line 1026, in _send_output\n",
            "    self.send(msg)\n",
            "  File \"/usr/lib/python3.6/http/client.py\", line 964, in send\n",
            "    self.connect()\n",
            "  File \"/usr/local/lib/python3.6/dist-packages/urllib3/connection.py\", line 181, in connect\n",
            "    conn = self._new_conn()\n",
            "  File \"/usr/local/lib/python3.6/dist-packages/urllib3/connection.py\", line 168, in _new_conn\n",
            "    self, \"Failed to establish a new connection: %s\" % e)\n",
            "urllib3.exceptions.NewConnectionError: <urllib3.connection.HTTPConnection object at 0x7f45432de9e8>: Failed to establish a new connection: [Errno 111] Connection refused\n",
            "\n",
            "During handling of the above exception, another exception occurred:\n",
            "\n",
            "Traceback (most recent call last):\n",
            "  File \"/usr/local/lib/python3.6/dist-packages/requests/adapters.py\", line 449, in send\n",
            "    timeout=timeout\n",
            "  File \"/usr/local/lib/python3.6/dist-packages/urllib3/connectionpool.py\", line 638, in urlopen\n",
            "    _stacktrace=sys.exc_info()[2])\n",
            "  File \"/usr/local/lib/python3.6/dist-packages/urllib3/util/retry.py\", line 399, in increment\n",
            "    raise MaxRetryError(_pool, url, error or ResponseError(cause))\n",
            "urllib3.exceptions.MaxRetryError: HTTPConnectionPool(host='localhost', port=6006): Max retries exceeded with url: /events (Caused by NewConnectionError('<urllib3.connection.HTTPConnection object at 0x7f45432de9e8>: Failed to establish a new connection: [Errno 111] Connection refused',))\n",
            "\n",
            "During handling of the above exception, another exception occurred:\n",
            "\n",
            "Traceback (most recent call last):\n",
            "  File \"/usr/local/lib/python3.6/dist-packages/visdom/__init__.py\", line 548, in _send\n",
            "    data=json.dumps(msg),\n",
            "  File \"/usr/local/lib/python3.6/dist-packages/requests/sessions.py\", line 581, in post\n",
            "    return self.request('POST', url, data=data, json=json, **kwargs)\n",
            "  File \"/usr/local/lib/python3.6/dist-packages/requests/sessions.py\", line 533, in request\n",
            "    resp = self.send(prep, **send_kwargs)\n",
            "  File \"/usr/local/lib/python3.6/dist-packages/requests/sessions.py\", line 646, in send\n",
            "    r = adapter.send(request, **kwargs)\n",
            "  File \"/usr/local/lib/python3.6/dist-packages/requests/adapters.py\", line 516, in send\n",
            "    raise ConnectionError(e, request=request)\n",
            "requests.exceptions.ConnectionError: HTTPConnectionPool(host='localhost', port=6006): Max retries exceeded with url: /events (Caused by NewConnectionError('<urllib3.connection.HTTPConnection object at 0x7f45432de9e8>: Failed to establish a new connection: [Errno 111] Connection refused',))\n"
          ],
          "name": "stderr"
        },
        {
          "output_type": "stream",
          "text": [
            "/usr/bin/python2: No module named visdom\n"
          ],
          "name": "stdout"
        }
      ]
    },
    {
      "cell_type": "code",
      "metadata": {
        "id": "zuottUrGqmpV",
        "colab_type": "code",
        "outputId": "774e992d-625f-4cc0-db81-c3fe3104d5c3",
        "colab": {
          "base_uri": "https://localhost:8080/",
          "height": 319
        }
      },
      "source": [
        "images_folder = '/content/drive/My Drive/VIOLENCE DATASETS/HockeyFightsFrames/Fights/2'\n",
        "sm, img = compute_approximate_dynamic_images(images_folder,'images', no_frames=4)\n",
        "\n",
        "\n",
        "fig = plt.figure(figsize=(10,10))\n",
        "a = fig.add_subplot(1, 2, 1)\n",
        "imgplot = plt.imshow(img)\n",
        "a.set_title('Dynamic')\n",
        "\n",
        "\n",
        "\n",
        "# plt.imshow(np.asarray(img_t))\n",
        "# a = fig.add_subplot(1, 3, 2)\n",
        "# imgplot = plt.imshow(np.asarray(img_t))\n",
        "# a.set_title('transform')"
      ],
      "execution_count": 0,
      "outputs": [
        {
          "output_type": "stream",
          "text": [
            "dynamic image with:  4  frames\n",
            "Dynamic image shape:  (288, 360, 3)\n"
          ],
          "name": "stdout"
        },
        {
          "output_type": "execute_result",
          "data": {
            "text/plain": [
              "Text(0.5, 1.0, 'Dynamic')"
            ]
          },
          "metadata": {
            "tags": []
          },
          "execution_count": 9
        },
        {
          "output_type": "display_data",
          "data": {
            "image/png": "[encoded data removed]",
            "text/plain": [
              "<Figure size 720x720 with 1 Axes>"
            ]
          },
          "metadata": {
            "tags": []
          }
        }
      ]
    },
    {
      "cell_type": "code",
      "metadata": {
        "id": "iNSKhOe68BiX",
        "colab_type": "code",
        "outputId": "55fa7616-ff3f-4632-83eb-ffe7cd2cfdd0",
        "colab": {
          "base_uri": "https://localhost:8080/",
          "height": 35
        }
      },
      "source": [
        "\n",
        "\n",
        "# PILimage = Image.fromarray(img.astype('uint8'), 'RGB')\n",
        "PILimage = Image.fromarray(img, 'RGB')\n",
        "# print('PIL img size',PILimage.size)\n",
        "img_t = transform(PILimage)\n",
        "batch_t = torch.unsqueeze(img_t, 0)\n",
        "print('batch_t size',batch_t.size())\n",
        "# PILimage.show()\n",
        "# print('transform size: ',img_t.size())\n",
        "\n",
        "# tensor_image = img_t.view(img_t.shape[1], img_t.shape[2], img_t.shape[0])\n",
        "# print(type(tensor_image), tensor_image.shape)\n",
        "\n",
        "# transformIMG = img_t.permute(1, 2, 0)\n",
        "# transformIMG.size()\n",
        "# plt.imshow(transformIMG)"
      ],
      "execution_count": 0,
      "outputs": [
        {
          "output_type": "stream",
          "text": [
            "batch_t size torch.Size([1, 3, 224, 224])\n"
          ],
          "name": "stdout"
        }
      ]
    }
  ]
}